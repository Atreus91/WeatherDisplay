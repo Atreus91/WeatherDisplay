{
 "cells": [
  {
   "cell_type": "code",
   "execution_count": null,
   "id": "c80e57ec",
   "metadata": {},
   "outputs": [],
   "source": [
    "import requests\n",
    "import json\n",
    "import os\n",
    "import openweathermap as owm\n",
    "from datetime import datetime\n",
    "from zoneinfo import ZoneInfo\n",
    "import matplotlib.pyplot as plt\n",
    "import numpy as np\n",
    "import matplotlib.dates as mdates\n",
    "from scipy.interpolate import make_interp_spline\n",
    "from datetime import timedelta\n",
    "\n",
    "CITY = \"La Forêt-Sainte-Croix,FR\"\n",
    "# TZ = \"Europe/Stockholm\"\n",
    "\n",
    "def geocoding(city):\n",
    "    geo_url = \"https://api.openweathermap.org/geo/1.0/direct\"\n",
    "    geo_params = {\"q\": city, \"limit\": 1, \"appid\": API_KEY}\n",
    "    geo = requests.get(geo_url, params=geo_params).json()\n",
    "    assert geo, f\"Ville introuvable: {city}\"\n",
    "    lat, lon = geo[0][\"lat\"], geo[0][\"lon\"]\n",
    "    return lat, lon\n",
    "\n",
    "\n",
    "def getForecast(lat, lon):\n",
    "    oc_url = \"https://api.openweathermap.org/data/2.5/forecast\"\n",
    "    oc_params={\n",
    "            \"lat\": lat,\n",
    "            \"lon\": lon,\n",
    "            \"appid\": API_KEY,\n",
    "            \"units\": \"metric\",\n",
    "            \"exclude\": \"minutely,alerts\"\n",
    "        }\n",
    "    return requests.get(oc_url, params=oc_params).json()\n",
    "\n",
    "\n",
    "EMOJIS = {\n",
    "    \"Clear\": \"☀️\",\n",
    "    \"Clouds\": \"☁️\",\n",
    "    \"Rain\": \"🌧️\",\n",
    "    \"Snow\": \"❄️\",\n",
    "}"
   ]
  },
  {
   "cell_type": "code",
   "execution_count": 5,
   "id": "295ef269",
   "metadata": {},
   "outputs": [
    {
     "name": "stdout",
     "output_type": "stream",
     "text": [
      "48.3852225 2.2302414\n"
     ]
    }
   ],
   "source": [
    "lat, lon = geocoding(CITY)\n",
    "data = getForecast(lat, lon)\n",
    "print(lat, lon)"
   ]
  },
  {
   "cell_type": "code",
   "execution_count": 3,
   "id": "8352c507",
   "metadata": {},
   "outputs": [],
   "source": [
    "# Extrait les données à afficher\n",
    "temperatures = [entry[\"main\"][\"temp\"] for entry in data[\"list\"]]\n",
    "timestamps = [datetime.fromtimestamp(entry[\"dt\"]) for entry in data[\"list\"]]\n",
    "weathers = [entry[\"weather\"][0][\"main\"] for entry in data['list']]\n",
    "weather_emojis = [EMOJIS.get(w, \"❓\") for w in weathers]"
   ]
  },
  {
   "cell_type": "code",
   "execution_count": null,
   "id": "3d314447",
   "metadata": {},
   "outputs": [
    {
     "name": "stderr",
     "output_type": "stream",
     "text": [
      "2025-09-11 18:01:08.934 WARNING streamlit.runtime.scriptrunner_utils.script_run_context: Thread 'MainThread': missing ScriptRunContext! This warning can be ignored when running in bare mode.\n",
      "2025-09-11 18:01:08.934 WARNING streamlit.runtime.scriptrunner_utils.script_run_context: Thread 'MainThread': missing ScriptRunContext! This warning can be ignored when running in bare mode.\n",
      "2025-09-11 18:01:09.756 \n",
      "  \u001b[33m\u001b[1mWarning:\u001b[0m to view this Streamlit app on a browser, run it with the following\n",
      "  command:\n",
      "\n",
      "    streamlit run c:\\Users\\cleme\\Documents\\Coding\\env3-12\\Lib\\site-packages\\ipykernel_launcher.py [ARGUMENTS]\n",
      "2025-09-11 18:01:09.756 Thread 'MainThread': missing ScriptRunContext! This warning can be ignored when running in bare mode.\n",
      "2025-09-11 18:01:09.756 Thread 'MainThread': missing ScriptRunContext! This warning can be ignored when running in bare mode.\n",
      "2025-09-11 18:01:09.756 Thread 'MainThread': missing ScriptRunContext! This warning can be ignored when running in bare mode.\n",
      "2025-09-11 18:01:09.756 Thread 'MainThread': missing ScriptRunContext! This warning can be ignored when running in bare mode.\n",
      "2025-09-11 18:01:09.756 Thread 'MainThread': missing ScriptRunContext! This warning can be ignored when running in bare mode.\n",
      "2025-09-11 18:01:09.756 Thread 'MainThread': missing ScriptRunContext! This warning can be ignored when running in bare mode.\n",
      "2025-09-11 18:01:09.756 Session state does not function when running a script without `streamlit run`\n",
      "2025-09-11 18:01:09.767 Thread 'MainThread': missing ScriptRunContext! This warning can be ignored when running in bare mode.\n",
      "2025-09-11 18:01:09.767 Thread 'MainThread': missing ScriptRunContext! This warning can be ignored when running in bare mode.\n",
      "2025-09-11 18:01:09.767 Thread 'MainThread': missing ScriptRunContext! This warning can be ignored when running in bare mode.\n"
     ]
    },
    {
     "ename": "AttributeError",
     "evalue": "'dict' object has no attribute 'sort_values'",
     "output_type": "error",
     "traceback": [
      "\u001b[1;31m---------------------------------------------------------------------------\u001b[0m",
      "\u001b[1;31mAttributeError\u001b[0m                            Traceback (most recent call last)",
      "Cell \u001b[1;32mIn[8], line 20\u001b[0m\n\u001b[0;32m     17\u001b[0m data \u001b[38;5;241m=\u001b[39m requests\u001b[38;5;241m.\u001b[39mget(forecast_url)\u001b[38;5;241m.\u001b[39mjson()\n\u001b[0;32m     19\u001b[0m \u001b[38;5;28;01mif\u001b[39;00m \u001b[38;5;124m\"\u001b[39m\u001b[38;5;124mlist\u001b[39m\u001b[38;5;124m\"\u001b[39m \u001b[38;5;129;01min\u001b[39;00m data:\n\u001b[1;32m---> 20\u001b[0m     fig \u001b[38;5;241m=\u001b[39m \u001b[43mcreate_weather_plot\u001b[49m\u001b[43m(\u001b[49m\u001b[43mdata\u001b[49m\u001b[43m)\u001b[49m  \u001b[38;5;66;03m# ta fonction de graphique Plotly\u001b[39;00m\n\u001b[0;32m     21\u001b[0m     st\u001b[38;5;241m.\u001b[39mplotly_chart(fig, use_container_width\u001b[38;5;241m=\u001b[39m\u001b[38;5;28;01mTrue\u001b[39;00m)\n\u001b[0;32m     22\u001b[0m \u001b[38;5;28;01melse\u001b[39;00m:\n",
      "Cell \u001b[1;32mIn[7], line 31\u001b[0m, in \u001b[0;36mcreate_weather_plot\u001b[1;34m(filtered_df, day)\u001b[0m\n\u001b[0;32m     29\u001b[0m \u001b[38;5;28;01mdef\u001b[39;00m \u001b[38;5;21mcreate_weather_plot\u001b[39m(filtered_df, day\u001b[38;5;241m=\u001b[39m\u001b[38;5;28;01mNone\u001b[39;00m):\n\u001b[1;32m---> 31\u001b[0m     filtered_df \u001b[38;5;241m=\u001b[39m \u001b[43mfiltered_df\u001b[49m\u001b[38;5;241;43m.\u001b[39;49m\u001b[43msort_values\u001b[49m(\u001b[38;5;124m\"\u001b[39m\u001b[38;5;124mdatetime\u001b[39m\u001b[38;5;124m\"\u001b[39m)\n\u001b[0;32m     32\u001b[0m     \u001b[38;5;66;03m# Interpolation\u001b[39;00m\n\u001b[0;32m     33\u001b[0m     x_raw \u001b[38;5;241m=\u001b[39m np\u001b[38;5;241m.\u001b[39marray([ts\u001b[38;5;241m.\u001b[39mtimestamp() \u001b[38;5;28;01mfor\u001b[39;00m ts \u001b[38;5;129;01min\u001b[39;00m filtered_df[\u001b[38;5;124m\"\u001b[39m\u001b[38;5;124mdatetime\u001b[39m\u001b[38;5;124m\"\u001b[39m]])\n",
      "\u001b[1;31mAttributeError\u001b[0m: 'dict' object has no attribute 'sort_values'"
     ]
    }
   ],
   "source": [
    "import streamlit as st\n",
    "import requests\n",
    "import pandas as pd\n",
    "from datetime import datetime\n",
    "from dash import Dash, dcc, html, Input, Output, ctx, State\n",
    "import plotly.graph_objects as go\n",
    "import numpy as np\n",
    "from scipy.interpolate import make_interp_spline\n",
    "from datetime import datetime, timedelta\n",
    "from datetime import tzinfo\n",
    "from datetime import timezone\n",
    "\n",
    "\n",
    "st.set_page_config(page_title=\"Weather App ☁️\", layout=\"wide\")\n",
    "\n",
    "st.title(\"🌦️ Weather Forecast Viewer\")\n",
    "\n",
    "city = st.text_input(\"Entrez une ville\", value=\"Paris\")\n",
    "\n",
    "if city:\n",
    "    lat, lon = geocoding(city)\n",
    "\n",
    "    data = getForecast(lat, lon)\n",
    "    temperatures = [entry[\"main\"][\"temp\"] for entry in data[\"list\"]]\n",
    "    timestamps = [datetime.fromtimestamp(entry[\"dt\"]) for entry in data[\"list\"]]\n",
    "    weathers = [entry[\"weather\"][0][\"main\"] for entry in data['list']]\n",
    "    weather_emojis = [EMOJIS.get(w, \"❓\") for w in weathers]\n",
    "\n",
    "    df = pd.DataFrame({\n",
    "        \"datetime\": timestamps,\n",
    "        \"temperature\": temperatures,\n",
    "        \"emoji\": weather_emojis\n",
    "    })\n",
    "    df[\"day\"] = df[\"datetime\"].dt.date\n",
    "    df[\"hour\"] = df[\"datetime\"].dt.hour\n",
    "    df[\"datetime\"] = pd.to_datetime(df[\"datetime\"], utc=True)\n",
    "    \n",
    "    # App Dash\n",
    "    app = Dash(__name__)\n",
    "    app.layout = html.Div([\n",
    "        html.H3(id='day-label', children=''),\n",
    "        dcc.Store(id=\"stored_day\"),\n",
    "        dcc.Graph(id=\"graph\", figure=create_weather_plot(df)),\n",
    "    ])\n",
    "\n",
    "\n",
    "\n",
    "    @app.callback(\n",
    "        Output(\"graph\", \"figure\"),\n",
    "        Output(\"stored_day\", \"data\"),  # ← Mémoire du jour affiché\n",
    "        Input(\"graph\", \"clickData\"),\n",
    "        State(\"stored_day\", \"data\")\n",
    "    )\n",
    "\n",
    "    if __name__ == \"__main__\":\n",
    "        app.run(debug=True)\n",
    "\n",
    "    "
   ]
  },
  {
   "cell_type": "code",
   "execution_count": null,
   "id": "87df0e52",
   "metadata": {},
   "outputs": [],
   "source": [
    "from dash import Dash, dcc, html, Input, Output, ctx, State\n",
    "import plotly.graph_objects as go\n",
    "import pandas as pd\n",
    "import numpy as np\n",
    "from scipy.interpolate import make_interp_spline\n",
    "from datetime import datetime, timedelta\n",
    "from datetime import tzinfo\n",
    "from datetime import timezone\n",
    "\n",
    "\n",
    "# Tes données simulées : à remplacer par data[\"list\"]\n",
    "# → ici tu remplaces par ton vrai parsing\n",
    "temperatures = [entry[\"main\"][\"temp\"] for entry in data[\"list\"]]\n",
    "timestamps = [datetime.fromtimestamp(entry[\"dt\"]) for entry in data[\"list\"]]\n",
    "weathers = [entry[\"weather\"][0][\"main\"] for entry in data['list']]\n",
    "EMOJIS = {\"Clear\": \"☀️\", \"Rain\": \"🌧️\", \"Clouds\": \"☁️\", \"Snow\": \"❄️\", \"Thunderstorm\": \"⚡\"}\n",
    "weather_emojis = [EMOJIS.get(w, \"❓\") for w in weathers]\n",
    "\n",
    "df = pd.DataFrame({\n",
    "    \"datetime\": timestamps,\n",
    "    \"temperature\": temperatures,\n",
    "    \"emoji\": weather_emojis\n",
    "})\n",
    "df[\"day\"] = df[\"datetime\"].dt.date\n",
    "df[\"hour\"] = df[\"datetime\"].dt.hour\n",
    "df[\"datetime\"] = pd.to_datetime(df[\"datetime\"], utc=True)\n",
    "\n",
    "\n",
    "def create_weather_plot(filtered_df, day=None):\n",
    "\n",
    "    filtered_df = filtered_df.sort_values(\"datetime\")\n",
    "    # Interpolation\n",
    "    x_raw = np.array([ts.timestamp() for ts in filtered_df[\"datetime\"]])\n",
    "    y_raw = np.array(filtered_df[\"temperature\"])\n",
    "    if len(x_raw) >= 4:\n",
    "        x_new = np.linspace(x_raw.min(), x_raw.max(), 300)\n",
    "        spline = make_interp_spline(x_raw, y_raw, k=3)\n",
    "        y_smooth = spline(x_new)\n",
    "        x_smooth = [datetime.fromtimestamp(ts, timezone.utc) for ts in x_new]\n",
    "    else:\n",
    "        x_smooth, y_smooth = [], []\n",
    "    \n",
    "    # print(\"min/max temps réel :\", min(filtered_df[\"datetime\"]), max(filtered_df[\"datetime\"]))\n",
    "    # print(\"min/max x_smooth :\", min(x_smooth), max(x_smooth))\n",
    "\n",
    "    fig = go.Figure()\n",
    "\n",
    "    # Température réelle\n",
    "    fig.add_trace(go.Scatter(\n",
    "        x=filtered_df[\"datetime\"],\n",
    "        y=filtered_df[\"temperature\"],\n",
    "        mode='markers+lines',\n",
    "        name='Température',\n",
    "        customdata=filtered_df[\"emoji\"],\n",
    "        hovertemplate=\"%{x|%A %Hh}<br>Temp: %{y:.1f}°C<br>%{customdata}\"\n",
    "    ))\n",
    "\n",
    "    # Température lissée\n",
    "    if x_smooth:\n",
    "        fig.add_trace(go.Scatter(\n",
    "            x=x_smooth,\n",
    "            y=y_smooth,\n",
    "            mode='lines',\n",
    "            name='Température lissée',\n",
    "            line=dict(color='red', width=2, dash='dot'),\n",
    "        ))\n",
    "\n",
    "    # Fond nuit\n",
    "    for i, row in filtered_df.iterrows():\n",
    "        if row[\"hour\"] == 20:\n",
    "            start = row[\"datetime\"]\n",
    "            end = start + timedelta(hours=10)\n",
    "            fig.add_vrect(\n",
    "                x0=start, x1=end,\n",
    "                fillcolor=\"lightgray\", opacity=0.2, line_width=0,\n",
    "                layer=\"below\"\n",
    "            )\n",
    "\n",
    "    # Ajout des noms de jour\n",
    "    unique_days = filtered_df[\"day\"].unique()\n",
    "    for i in range(len(unique_days) - 1):\n",
    "        day_start = filtered_df[filtered_df[\"day\"] == unique_days[i]][\"datetime\"].min()\n",
    "        day_end = filtered_df[filtered_df[\"day\"] == unique_days[i + 1]][\"datetime\"].min()\n",
    "        mid = day_start + (day_end - day_start) / 2\n",
    "\n",
    "        fig.add_annotation(\n",
    "            x=mid, y=max(filtered_df[\"temperature\"]),\n",
    "            text=unique_days[i].strftime(\"%A %d\"),\n",
    "            showarrow=False,\n",
    "            yshift=20,\n",
    "            font=dict(size=12, color=\"black\")\n",
    "        )\n",
    "\n",
    "    # Dernier jour\n",
    "    if len(unique_days) >= 2:\n",
    "        last_day = unique_days[-1]\n",
    "        day_start = filtered_df[filtered_df[\"day\"] == last_day][\"datetime\"].min()\n",
    "        mid = day_start + timedelta(hours=12)\n",
    "        fig.add_annotation(\n",
    "            x=mid, y=max(filtered_df[\"temperature\"]),\n",
    "            text=last_day.strftime(\"%A %d\"),\n",
    "            showarrow=False,\n",
    "            yshift=20,\n",
    "            font=dict(size=12, color=\"black\")\n",
    "        )\n",
    "\n",
    "    # Emojis météo en texte\n",
    "    fig.add_trace(go.Scatter(\n",
    "        x=filtered_df[\"datetime\"],\n",
    "        y=filtered_df[\"temperature\"],\n",
    "        mode=\"text\",\n",
    "        text=filtered_df[\"emoji\"],\n",
    "        name=\"Temps\",\n",
    "        textposition=\"top center\",\n",
    "        showlegend=True,\n",
    "        hoverinfo=\"skip\"\n",
    "    ))\n",
    "\n",
    "    # Layout\n",
    "    fig.update_layout(\n",
    "        title=f\"Prévisions météo {day}\",\n",
    "        xaxis=dict(showticklabels=False),\n",
    "        yaxis_title=\"Température (°C)\",\n",
    "        hovermode=\"x unified\",\n",
    "        template=\"plotly_white\",\n",
    "        legend=dict(orientation=\"h\", yanchor=\"bottom\", y=1.02, xanchor=\"right\", x=1)\n",
    "    )\n",
    "\n",
    "    return fig\n",
    "\n",
    "\n",
    "# App Dash\n",
    "app = Dash(__name__)\n",
    "app.layout = html.Div([\n",
    "    html.H3(id='day-label', children=''),\n",
    "    dcc.Store(id=\"stored_day\"),\n",
    "    dcc.Graph(id=\"graph\", figure=create_weather_plot(df)),\n",
    "])\n",
    "\n",
    "\n",
    "\n",
    "@app.callback(\n",
    "    Output(\"graph\", \"figure\"),\n",
    "    Output(\"stored_day\", \"data\"),  # ← Mémoire du jour affiché\n",
    "    Input(\"graph\", \"clickData\"),\n",
    "    State(\"stored_day\", \"data\")\n",
    ")\n",
    "def update_on_click(clickData, stored_day):\n",
    "    if clickData is None:\n",
    "        return create_weather_plot(df, \"\"), None\n",
    "\n",
    "    clicked_dt = clickData[\"points\"][0][\"x\"]\n",
    "    clicked_day = pd.to_datetime(clicked_dt).date()\n",
    "\n",
    "    if stored_day == str(clicked_day):\n",
    "        # 👈 même jour → on réinitialise\n",
    "        return create_weather_plot(df, \"\"), None\n",
    "\n",
    "    # 👈 nouveau jour → on filtre\n",
    "    filtered_df = df[df[\"datetime\"].dt.date == clicked_day]\n",
    "    label = f\"- {clicked_day.strftime('%A %d %B')}\"\n",
    "\n",
    "    return create_weather_plot(filtered_df, label), str(clicked_day)\n",
    "\n",
    "\n",
    "\n"
   ]
  },
  {
   "cell_type": "code",
   "execution_count": 1,
   "id": "0eafe7a3",
   "metadata": {},
   "outputs": [
    {
     "name": "stderr",
     "output_type": "stream",
     "text": [
      "2025-09-24 02:36:19.080 Thread 'MainThread': missing ScriptRunContext! This warning can be ignored when running in bare mode.\n",
      "2025-09-24 02:36:19.081 Thread 'MainThread': missing ScriptRunContext! This warning can be ignored when running in bare mode.\n",
      "2025-09-24 02:36:19.082 Thread 'MainThread': missing ScriptRunContext! This warning can be ignored when running in bare mode.\n",
      "2025-09-24 02:36:19.287 \n",
      "  \u001b[33m\u001b[1mWarning:\u001b[0m to view this Streamlit app on a browser, run it with the following\n",
      "  command:\n",
      "\n",
      "    streamlit run c:\\Users\\cleme\\Documents\\Coding\\env3-12\\Lib\\site-packages\\ipykernel_launcher.py [ARGUMENTS]\n",
      "2025-09-24 02:36:19.287 Thread 'MainThread': missing ScriptRunContext! This warning can be ignored when running in bare mode.\n",
      "2025-09-24 02:36:19.295 Thread 'MainThread': missing ScriptRunContext! This warning can be ignored when running in bare mode.\n",
      "2025-09-24 02:36:19.295 Thread 'MainThread': missing ScriptRunContext! This warning can be ignored when running in bare mode.\n",
      "2025-09-24 02:36:19.295 Thread 'MainThread': missing ScriptRunContext! This warning can be ignored when running in bare mode.\n",
      "2025-09-24 02:36:19.295 Thread 'MainThread': missing ScriptRunContext! This warning can be ignored when running in bare mode.\n",
      "2025-09-24 02:36:19.297 Thread 'MainThread': missing ScriptRunContext! This warning can be ignored when running in bare mode.\n",
      "2025-09-24 02:36:19.298 Session state does not function when running a script without `streamlit run`\n",
      "2025-09-24 02:36:19.298 Thread 'MainThread': missing ScriptRunContext! This warning can be ignored when running in bare mode.\n",
      "2025-09-24 02:36:19.299 Thread 'MainThread': missing ScriptRunContext! This warning can be ignored when running in bare mode.\n",
      "2025-09-24 02:36:19.299 Thread 'MainThread': missing ScriptRunContext! This warning can be ignored when running in bare mode.\n",
      "2025-09-24 02:36:19.678 Thread 'MainThread': missing ScriptRunContext! This warning can be ignored when running in bare mode.\n",
      "2025-09-24 02:36:19.678 Thread 'MainThread': missing ScriptRunContext! This warning can be ignored when running in bare mode.\n",
      "2025-09-24 02:36:19.678 Thread 'MainThread': missing ScriptRunContext! This warning can be ignored when running in bare mode.\n",
      "2025-09-24 02:36:19.678 Thread 'MainThread': missing ScriptRunContext! This warning can be ignored when running in bare mode.\n",
      "2025-09-24 02:36:19.678 Thread 'MainThread': missing ScriptRunContext! This warning can be ignored when running in bare mode.\n"
     ]
    },
    {
     "data": {
      "application/vnd.plotly.v1+json": {
       "config": {
        "plotlyServerURL": "https://plot.ly"
       },
       "data": [
        {
         "customdata": [
          "🌧️",
          "🌧️",
          "🌧️",
          "🌧️",
          "🌧️",
          "🌧️",
          "☁️",
          "☁️",
          "☁️",
          "☁️",
          "☁️",
          "☁️",
          "☁️",
          "☁️",
          "☁️",
          "☁️",
          "☁️",
          "☁️",
          "🌧️",
          "☁️",
          "☁️",
          "☁️",
          "☁️",
          "☁️",
          "☁️",
          "🌧️",
          "🌧️",
          "☁️",
          "☁️",
          "☁️",
          "☀️",
          "☀️",
          "☀️",
          "☀️",
          "☁️",
          "☁️",
          "☁️",
          "☁️",
          "☀️",
          "☁️"
         ],
         "hovertemplate": "%{x|%A %Hh}<br>Temp: %{y:.1f}°C<br>%{customdata}",
         "mode": "markers+lines",
         "name": "Température",
         "type": "scatter",
         "x": [
          "2025-09-24T05:00:00.000000000",
          "2025-09-24T08:00:00.000000000",
          "2025-09-24T11:00:00.000000000",
          "2025-09-24T14:00:00.000000000",
          "2025-09-24T17:00:00.000000000",
          "2025-09-24T20:00:00.000000000",
          "2025-09-24T23:00:00.000000000",
          "2025-09-25T02:00:00.000000000",
          "2025-09-25T05:00:00.000000000",
          "2025-09-25T08:00:00.000000000",
          "2025-09-25T11:00:00.000000000",
          "2025-09-25T14:00:00.000000000",
          "2025-09-25T17:00:00.000000000",
          "2025-09-25T20:00:00.000000000",
          "2025-09-25T23:00:00.000000000",
          "2025-09-26T02:00:00.000000000",
          "2025-09-26T05:00:00.000000000",
          "2025-09-26T08:00:00.000000000",
          "2025-09-26T11:00:00.000000000",
          "2025-09-26T14:00:00.000000000",
          "2025-09-26T17:00:00.000000000",
          "2025-09-26T20:00:00.000000000",
          "2025-09-26T23:00:00.000000000",
          "2025-09-27T02:00:00.000000000",
          "2025-09-27T05:00:00.000000000",
          "2025-09-27T08:00:00.000000000",
          "2025-09-27T11:00:00.000000000",
          "2025-09-27T14:00:00.000000000",
          "2025-09-27T17:00:00.000000000",
          "2025-09-27T20:00:00.000000000",
          "2025-09-27T23:00:00.000000000",
          "2025-09-28T02:00:00.000000000",
          "2025-09-28T05:00:00.000000000",
          "2025-09-28T08:00:00.000000000",
          "2025-09-28T11:00:00.000000000",
          "2025-09-28T14:00:00.000000000",
          "2025-09-28T17:00:00.000000000",
          "2025-09-28T20:00:00.000000000",
          "2025-09-28T23:00:00.000000000",
          "2025-09-29T02:00:00.000000000"
         ],
         "y": {
          "bdata": "w/UoXI/CJUBcj8L1KNwkQEjhehSuRyZAPQrXo3C9J0D2KFyPwvUkQM3MzMzMTCVAPQrXo3A9JUBI4XoUrkclQHE9CtejcCVASOF6FK7HJECuR+F6FC4lQLgehetROChAZmZmZmZmKUBmZmZmZuYmQFK4HoXr0SVAj8L1KFyPJECF61G4HgUkQM3MzMzMzCNAUrgehetRJEAK16NwPYolQHE9CtejcClA9ihcj8L1KEBI4XoUrkcpQArXo3A9CihA9ihcj8L1J0DD9Shcj8InQEjhehSuRylAH4XrUbieKkDD9Shcj0IwQFK4HoXrUS5AUrgehevRKkCF61G4HoUoQHsUrkfheiZAhetRuB4FJUAAAAAAAIAsQArXo3A9yjJArkfhehQuNEAUrkfhehQyQFyPwvUoHDBAFK5H4XqULUA=",
          "dtype": "f8"
         }
        },
        {
         "line": {
          "color": "red",
          "dash": "dot",
          "width": 2
         },
         "mode": "lines",
         "name": "Température lissée",
         "type": "scatter",
         "x": [
          "2025-09-24T05:00:00+00:00",
          "2025-09-24T05:23:28.695652+00:00",
          "2025-09-24T05:46:57.391304+00:00",
          "2025-09-24T06:10:26.086957+00:00",
          "2025-09-24T06:33:54.782609+00:00",
          "2025-09-24T06:57:23.478261+00:00",
          "2025-09-24T07:20:52.173913+00:00",
          "2025-09-24T07:44:20.869565+00:00",
          "2025-09-24T08:07:49.565217+00:00",
          "2025-09-24T08:31:18.260870+00:00",
          "2025-09-24T08:54:46.956522+00:00",
          "2025-09-24T09:18:15.652174+00:00",
          "2025-09-24T09:41:44.347826+00:00",
          "2025-09-24T10:05:13.043478+00:00",
          "2025-09-24T10:28:41.739130+00:00",
          "2025-09-24T10:52:10.434783+00:00",
          "2025-09-24T11:15:39.130435+00:00",
          "2025-09-24T11:39:07.826087+00:00",
          "2025-09-24T12:02:36.521739+00:00",
          "2025-09-24T12:26:05.217391+00:00",
          "2025-09-24T12:49:33.913043+00:00",
          "2025-09-24T13:13:02.608696+00:00",
          "2025-09-24T13:36:31.304348+00:00",
          "2025-09-24T14:00:00+00:00",
          "2025-09-24T14:23:28.695652+00:00",
          "2025-09-24T14:46:57.391304+00:00",
          "2025-09-24T15:10:26.086957+00:00",
          "2025-09-24T15:33:54.782609+00:00",
          "2025-09-24T15:57:23.478261+00:00",
          "2025-09-24T16:20:52.173913+00:00",
          "2025-09-24T16:44:20.869565+00:00",
          "2025-09-24T17:07:49.565217+00:00",
          "2025-09-24T17:31:18.260870+00:00",
          "2025-09-24T17:54:46.956522+00:00",
          "2025-09-24T18:18:15.652174+00:00",
          "2025-09-24T18:41:44.347826+00:00",
          "2025-09-24T19:05:13.043478+00:00",
          "2025-09-24T19:28:41.739130+00:00",
          "2025-09-24T19:52:10.434783+00:00",
          "2025-09-24T20:15:39.130435+00:00",
          "2025-09-24T20:39:07.826087+00:00",
          "2025-09-24T21:02:36.521739+00:00",
          "2025-09-24T21:26:05.217391+00:00",
          "2025-09-24T21:49:33.913043+00:00",
          "2025-09-24T22:13:02.608696+00:00",
          "2025-09-24T22:36:31.304348+00:00",
          "2025-09-24T23:00:00+00:00",
          "2025-09-24T23:23:28.695652+00:00",
          "2025-09-24T23:46:57.391304+00:00",
          "2025-09-25T00:10:26.086957+00:00",
          "2025-09-25T00:33:54.782609+00:00",
          "2025-09-25T00:57:23.478261+00:00",
          "2025-09-25T01:20:52.173913+00:00",
          "2025-09-25T01:44:20.869565+00:00",
          "2025-09-25T02:07:49.565217+00:00",
          "2025-09-25T02:31:18.260870+00:00",
          "2025-09-25T02:54:46.956522+00:00",
          "2025-09-25T03:18:15.652174+00:00",
          "2025-09-25T03:41:44.347826+00:00",
          "2025-09-25T04:05:13.043478+00:00",
          "2025-09-25T04:28:41.739130+00:00",
          "2025-09-25T04:52:10.434783+00:00",
          "2025-09-25T05:15:39.130435+00:00",
          "2025-09-25T05:39:07.826087+00:00",
          "2025-09-25T06:02:36.521739+00:00",
          "2025-09-25T06:26:05.217391+00:00",
          "2025-09-25T06:49:33.913043+00:00",
          "2025-09-25T07:13:02.608696+00:00",
          "2025-09-25T07:36:31.304348+00:00",
          "2025-09-25T08:00:00+00:00",
          "2025-09-25T08:23:28.695652+00:00",
          "2025-09-25T08:46:57.391304+00:00",
          "2025-09-25T09:10:26.086957+00:00",
          "2025-09-25T09:33:54.782609+00:00",
          "2025-09-25T09:57:23.478261+00:00",
          "2025-09-25T10:20:52.173913+00:00",
          "2025-09-25T10:44:20.869565+00:00",
          "2025-09-25T11:07:49.565217+00:00",
          "2025-09-25T11:31:18.260870+00:00",
          "2025-09-25T11:54:46.956522+00:00",
          "2025-09-25T12:18:15.652174+00:00",
          "2025-09-25T12:41:44.347826+00:00",
          "2025-09-25T13:05:13.043478+00:00",
          "2025-09-25T13:28:41.739130+00:00",
          "2025-09-25T13:52:10.434783+00:00",
          "2025-09-25T14:15:39.130435+00:00",
          "2025-09-25T14:39:07.826087+00:00",
          "2025-09-25T15:02:36.521739+00:00",
          "2025-09-25T15:26:05.217391+00:00",
          "2025-09-25T15:49:33.913043+00:00",
          "2025-09-25T16:13:02.608696+00:00",
          "2025-09-25T16:36:31.304348+00:00",
          "2025-09-25T17:00:00+00:00",
          "2025-09-25T17:23:28.695652+00:00",
          "2025-09-25T17:46:57.391304+00:00",
          "2025-09-25T18:10:26.086957+00:00",
          "2025-09-25T18:33:54.782609+00:00",
          "2025-09-25T18:57:23.478261+00:00",
          "2025-09-25T19:20:52.173913+00:00",
          "2025-09-25T19:44:20.869565+00:00",
          "2025-09-25T20:07:49.565217+00:00",
          "2025-09-25T20:31:18.260870+00:00",
          "2025-09-25T20:54:46.956522+00:00",
          "2025-09-25T21:18:15.652174+00:00",
          "2025-09-25T21:41:44.347826+00:00",
          "2025-09-25T22:05:13.043478+00:00",
          "2025-09-25T22:28:41.739130+00:00",
          "2025-09-25T22:52:10.434783+00:00",
          "2025-09-25T23:15:39.130435+00:00",
          "2025-09-25T23:39:07.826087+00:00",
          "2025-09-26T00:02:36.521739+00:00",
          "2025-09-26T00:26:05.217391+00:00",
          "2025-09-26T00:49:33.913043+00:00",
          "2025-09-26T01:13:02.608696+00:00",
          "2025-09-26T01:36:31.304348+00:00",
          "2025-09-26T02:00:00+00:00",
          "2025-09-26T02:23:28.695652+00:00",
          "2025-09-26T02:46:57.391304+00:00",
          "2025-09-26T03:10:26.086957+00:00",
          "2025-09-26T03:33:54.782609+00:00",
          "2025-09-26T03:57:23.478261+00:00",
          "2025-09-26T04:20:52.173913+00:00",
          "2025-09-26T04:44:20.869565+00:00",
          "2025-09-26T05:07:49.565217+00:00",
          "2025-09-26T05:31:18.260870+00:00",
          "2025-09-26T05:54:46.956522+00:00",
          "2025-09-26T06:18:15.652174+00:00",
          "2025-09-26T06:41:44.347826+00:00",
          "2025-09-26T07:05:13.043478+00:00",
          "2025-09-26T07:28:41.739130+00:00",
          "2025-09-26T07:52:10.434783+00:00",
          "2025-09-26T08:15:39.130435+00:00",
          "2025-09-26T08:39:07.826087+00:00",
          "2025-09-26T09:02:36.521739+00:00",
          "2025-09-26T09:26:05.217391+00:00",
          "2025-09-26T09:49:33.913043+00:00",
          "2025-09-26T10:13:02.608696+00:00",
          "2025-09-26T10:36:31.304348+00:00",
          "2025-09-26T11:00:00+00:00",
          "2025-09-26T11:23:28.695652+00:00",
          "2025-09-26T11:46:57.391304+00:00",
          "2025-09-26T12:10:26.086957+00:00",
          "2025-09-26T12:33:54.782609+00:00",
          "2025-09-26T12:57:23.478261+00:00",
          "2025-09-26T13:20:52.173913+00:00",
          "2025-09-26T13:44:20.869565+00:00",
          "2025-09-26T14:07:49.565217+00:00",
          "2025-09-26T14:31:18.260870+00:00",
          "2025-09-26T14:54:46.956522+00:00",
          "2025-09-26T15:18:15.652174+00:00",
          "2025-09-26T15:41:44.347826+00:00",
          "2025-09-26T16:05:13.043478+00:00",
          "2025-09-26T16:28:41.739130+00:00",
          "2025-09-26T16:52:10.434783+00:00",
          "2025-09-26T17:15:39.130435+00:00",
          "2025-09-26T17:39:07.826087+00:00",
          "2025-09-26T18:02:36.521739+00:00",
          "2025-09-26T18:26:05.217391+00:00",
          "2025-09-26T18:49:33.913043+00:00",
          "2025-09-26T19:13:02.608696+00:00",
          "2025-09-26T19:36:31.304348+00:00",
          "2025-09-26T20:00:00+00:00",
          "2025-09-26T20:23:28.695652+00:00",
          "2025-09-26T20:46:57.391304+00:00",
          "2025-09-26T21:10:26.086957+00:00",
          "2025-09-26T21:33:54.782609+00:00",
          "2025-09-26T21:57:23.478261+00:00",
          "2025-09-26T22:20:52.173913+00:00",
          "2025-09-26T22:44:20.869565+00:00",
          "2025-09-26T23:07:49.565217+00:00",
          "2025-09-26T23:31:18.260870+00:00",
          "2025-09-26T23:54:46.956522+00:00",
          "2025-09-27T00:18:15.652174+00:00",
          "2025-09-27T00:41:44.347826+00:00",
          "2025-09-27T01:05:13.043478+00:00",
          "2025-09-27T01:28:41.739130+00:00",
          "2025-09-27T01:52:10.434783+00:00",
          "2025-09-27T02:15:39.130435+00:00",
          "2025-09-27T02:39:07.826087+00:00",
          "2025-09-27T03:02:36.521739+00:00",
          "2025-09-27T03:26:05.217391+00:00",
          "2025-09-27T03:49:33.913043+00:00",
          "2025-09-27T04:13:02.608696+00:00",
          "2025-09-27T04:36:31.304348+00:00",
          "2025-09-27T05:00:00+00:00",
          "2025-09-27T05:23:28.695652+00:00",
          "2025-09-27T05:46:57.391304+00:00",
          "2025-09-27T06:10:26.086957+00:00",
          "2025-09-27T06:33:54.782609+00:00",
          "2025-09-27T06:57:23.478261+00:00",
          "2025-09-27T07:20:52.173913+00:00",
          "2025-09-27T07:44:20.869565+00:00",
          "2025-09-27T08:07:49.565217+00:00",
          "2025-09-27T08:31:18.260870+00:00",
          "2025-09-27T08:54:46.956522+00:00",
          "2025-09-27T09:18:15.652174+00:00",
          "2025-09-27T09:41:44.347826+00:00",
          "2025-09-27T10:05:13.043478+00:00",
          "2025-09-27T10:28:41.739130+00:00",
          "2025-09-27T10:52:10.434783+00:00",
          "2025-09-27T11:15:39.130435+00:00",
          "2025-09-27T11:39:07.826087+00:00",
          "2025-09-27T12:02:36.521739+00:00",
          "2025-09-27T12:26:05.217391+00:00",
          "2025-09-27T12:49:33.913043+00:00",
          "2025-09-27T13:13:02.608696+00:00",
          "2025-09-27T13:36:31.304348+00:00",
          "2025-09-27T14:00:00+00:00",
          "2025-09-27T14:23:28.695652+00:00",
          "2025-09-27T14:46:57.391304+00:00",
          "2025-09-27T15:10:26.086957+00:00",
          "2025-09-27T15:33:54.782609+00:00",
          "2025-09-27T15:57:23.478261+00:00",
          "2025-09-27T16:20:52.173913+00:00",
          "2025-09-27T16:44:20.869565+00:00",
          "2025-09-27T17:07:49.565217+00:00",
          "2025-09-27T17:31:18.260870+00:00",
          "2025-09-27T17:54:46.956522+00:00",
          "2025-09-27T18:18:15.652174+00:00",
          "2025-09-27T18:41:44.347826+00:00",
          "2025-09-27T19:05:13.043478+00:00",
          "2025-09-27T19:28:41.739130+00:00",
          "2025-09-27T19:52:10.434783+00:00",
          "2025-09-27T20:15:39.130435+00:00",
          "2025-09-27T20:39:07.826087+00:00",
          "2025-09-27T21:02:36.521739+00:00",
          "2025-09-27T21:26:05.217391+00:00",
          "2025-09-27T21:49:33.913043+00:00",
          "2025-09-27T22:13:02.608696+00:00",
          "2025-09-27T22:36:31.304348+00:00",
          "2025-09-27T23:00:00+00:00",
          "2025-09-27T23:23:28.695652+00:00",
          "2025-09-27T23:46:57.391304+00:00",
          "2025-09-28T00:10:26.086957+00:00",
          "2025-09-28T00:33:54.782609+00:00",
          "2025-09-28T00:57:23.478261+00:00",
          "2025-09-28T01:20:52.173913+00:00",
          "2025-09-28T01:44:20.869565+00:00",
          "2025-09-28T02:07:49.565217+00:00",
          "2025-09-28T02:31:18.260870+00:00",
          "2025-09-28T02:54:46.956522+00:00",
          "2025-09-28T03:18:15.652174+00:00",
          "2025-09-28T03:41:44.347826+00:00",
          "2025-09-28T04:05:13.043478+00:00",
          "2025-09-28T04:28:41.739130+00:00",
          "2025-09-28T04:52:10.434783+00:00",
          "2025-09-28T05:15:39.130435+00:00",
          "2025-09-28T05:39:07.826087+00:00",
          "2025-09-28T06:02:36.521739+00:00",
          "2025-09-28T06:26:05.217391+00:00",
          "2025-09-28T06:49:33.913043+00:00",
          "2025-09-28T07:13:02.608696+00:00",
          "2025-09-28T07:36:31.304348+00:00",
          "2025-09-28T08:00:00+00:00",
          "2025-09-28T08:23:28.695652+00:00",
          "2025-09-28T08:46:57.391304+00:00",
          "2025-09-28T09:10:26.086957+00:00",
          "2025-09-28T09:33:54.782609+00:00",
          "2025-09-28T09:57:23.478261+00:00",
          "2025-09-28T10:20:52.173913+00:00",
          "2025-09-28T10:44:20.869565+00:00",
          "2025-09-28T11:07:49.565217+00:00",
          "2025-09-28T11:31:18.260870+00:00",
          "2025-09-28T11:54:46.956522+00:00",
          "2025-09-28T12:18:15.652174+00:00",
          "2025-09-28T12:41:44.347826+00:00",
          "2025-09-28T13:05:13.043478+00:00",
          "2025-09-28T13:28:41.739130+00:00",
          "2025-09-28T13:52:10.434783+00:00",
          "2025-09-28T14:15:39.130435+00:00",
          "2025-09-28T14:39:07.826087+00:00",
          "2025-09-28T15:02:36.521739+00:00",
          "2025-09-28T15:26:05.217391+00:00",
          "2025-09-28T15:49:33.913043+00:00",
          "2025-09-28T16:13:02.608696+00:00",
          "2025-09-28T16:36:31.304348+00:00",
          "2025-09-28T17:00:00+00:00",
          "2025-09-28T17:23:28.695652+00:00",
          "2025-09-28T17:46:57.391304+00:00",
          "2025-09-28T18:10:26.086957+00:00",
          "2025-09-28T18:33:54.782609+00:00",
          "2025-09-28T18:57:23.478261+00:00",
          "2025-09-28T19:20:52.173913+00:00",
          "2025-09-28T19:44:20.869565+00:00",
          "2025-09-28T20:07:49.565217+00:00",
          "2025-09-28T20:31:18.260870+00:00",
          "2025-09-28T20:54:46.956522+00:00",
          "2025-09-28T21:18:15.652174+00:00",
          "2025-09-28T21:41:44.347826+00:00",
          "2025-09-28T22:05:13.043478+00:00",
          "2025-09-28T22:28:41.739130+00:00",
          "2025-09-28T22:52:10.434783+00:00",
          "2025-09-28T23:15:39.130435+00:00",
          "2025-09-28T23:39:07.826087+00:00",
          "2025-09-29T00:02:36.521739+00:00",
          "2025-09-29T00:26:05.217391+00:00",
          "2025-09-29T00:49:33.913043+00:00",
          "2025-09-29T01:13:02.608696+00:00",
          "2025-09-29T01:36:31.304348+00:00",
          "2025-09-29T02:00:00+00:00"
         ],
         "y": {
          "bdata": "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",
          "dtype": "f8"
         }
        },
        {
         "hoverinfo": "skip",
         "mode": "text",
         "name": "Temps",
         "showlegend": true,
         "text": [
          "🌧️",
          "🌧️",
          "🌧️",
          "🌧️",
          "🌧️",
          "🌧️",
          "☁️",
          "☁️",
          "☁️",
          "☁️",
          "☁️",
          "☁️",
          "☁️",
          "☁️",
          "☁️",
          "☁️",
          "☁️",
          "☁️",
          "🌧️",
          "☁️",
          "☁️",
          "☁️",
          "☁️",
          "☁️",
          "☁️",
          "🌧️",
          "🌧️",
          "☁️",
          "☁️",
          "☁️",
          "☀️",
          "☀️",
          "☀️",
          "☀️",
          "☁️",
          "☁️",
          "☁️",
          "☁️",
          "☀️",
          "☁️"
         ],
         "textposition": "top center",
         "type": "scatter",
         "x": [
          "2025-09-24T05:00:00.000000000",
          "2025-09-24T08:00:00.000000000",
          "2025-09-24T11:00:00.000000000",
          "2025-09-24T14:00:00.000000000",
          "2025-09-24T17:00:00.000000000",
          "2025-09-24T20:00:00.000000000",
          "2025-09-24T23:00:00.000000000",
          "2025-09-25T02:00:00.000000000",
          "2025-09-25T05:00:00.000000000",
          "2025-09-25T08:00:00.000000000",
          "2025-09-25T11:00:00.000000000",
          "2025-09-25T14:00:00.000000000",
          "2025-09-25T17:00:00.000000000",
          "2025-09-25T20:00:00.000000000",
          "2025-09-25T23:00:00.000000000",
          "2025-09-26T02:00:00.000000000",
          "2025-09-26T05:00:00.000000000",
          "2025-09-26T08:00:00.000000000",
          "2025-09-26T11:00:00.000000000",
          "2025-09-26T14:00:00.000000000",
          "2025-09-26T17:00:00.000000000",
          "2025-09-26T20:00:00.000000000",
          "2025-09-26T23:00:00.000000000",
          "2025-09-27T02:00:00.000000000",
          "2025-09-27T05:00:00.000000000",
          "2025-09-27T08:00:00.000000000",
          "2025-09-27T11:00:00.000000000",
          "2025-09-27T14:00:00.000000000",
          "2025-09-27T17:00:00.000000000",
          "2025-09-27T20:00:00.000000000",
          "2025-09-27T23:00:00.000000000",
          "2025-09-28T02:00:00.000000000",
          "2025-09-28T05:00:00.000000000",
          "2025-09-28T08:00:00.000000000",
          "2025-09-28T11:00:00.000000000",
          "2025-09-28T14:00:00.000000000",
          "2025-09-28T17:00:00.000000000",
          "2025-09-28T20:00:00.000000000",
          "2025-09-28T23:00:00.000000000",
          "2025-09-29T02:00:00.000000000"
         ],
         "y": {
          "bdata": "w/UoXI/CJUBcj8L1KNwkQEjhehSuRyZAPQrXo3C9J0D2KFyPwvUkQM3MzMzMTCVAPQrXo3A9JUBI4XoUrkclQHE9CtejcCVASOF6FK7HJECuR+F6FC4lQLgehetROChAZmZmZmZmKUBmZmZmZuYmQFK4HoXr0SVAj8L1KFyPJECF61G4HgUkQM3MzMzMzCNAUrgehetRJEAK16NwPYolQHE9CtejcClA9ihcj8L1KEBI4XoUrkcpQArXo3A9CihA9ihcj8L1J0DD9Shcj8InQEjhehSuRylAH4XrUbieKkDD9Shcj0IwQFK4HoXrUS5AUrgehevRKkCF61G4HoUoQHsUrkfheiZAhetRuB4FJUAAAAAAAIAsQArXo3A9yjJArkfhehQuNEAUrkfhehQyQFyPwvUoHDBAFK5H4XqULUA=",
          "dtype": "f8"
         }
        }
       ],
       "layout": {
        "annotations": [
         {
          "font": {
           "color": "black",
           "size": 12
          },
          "showarrow": false,
          "text": "Wednesday 24",
          "x": "2025-09-24T15:30:00+00:00",
          "y": 20.18,
          "yshift": 20
         },
         {
          "font": {
           "color": "black",
           "size": 12
          },
          "showarrow": false,
          "text": "Thursday 25",
          "x": "2025-09-25T14:00:00+00:00",
          "y": 20.18,
          "yshift": 20
         },
         {
          "font": {
           "color": "black",
           "size": 12
          },
          "showarrow": false,
          "text": "Friday 26",
          "x": "2025-09-26T14:00:00+00:00",
          "y": 20.18,
          "yshift": 20
         },
         {
          "font": {
           "color": "black",
           "size": 12
          },
          "showarrow": false,
          "text": "Saturday 27",
          "x": "2025-09-27T14:00:00+00:00",
          "y": 20.18,
          "yshift": 20
         },
         {
          "font": {
           "color": "black",
           "size": 12
          },
          "showarrow": false,
          "text": "Sunday 28",
          "x": "2025-09-28T14:00:00+00:00",
          "y": 20.18,
          "yshift": 20
         },
         {
          "font": {
           "color": "black",
           "size": 12
          },
          "showarrow": false,
          "text": "Monday 29",
          "x": "2025-09-29T14:00:00+00:00",
          "y": 20.18,
          "yshift": 20
         }
        ],
        "hovermode": "x unified",
        "legend": {
         "orientation": "h",
         "x": 1,
         "xanchor": "right",
         "y": 1.02,
         "yanchor": "bottom"
        },
        "shapes": [
         {
          "fillcolor": "lightgray",
          "layer": "below",
          "line": {
           "width": 0
          },
          "opacity": 0.2,
          "type": "rect",
          "x0": "2025-09-24T20:00:00+00:00",
          "x1": "2025-09-25T06:00:00+00:00",
          "xref": "x",
          "y0": 0,
          "y1": 1,
          "yref": "y domain"
         },
         {
          "fillcolor": "lightgray",
          "layer": "below",
          "line": {
           "width": 0
          },
          "opacity": 0.2,
          "type": "rect",
          "x0": "2025-09-25T20:00:00+00:00",
          "x1": "2025-09-26T06:00:00+00:00",
          "xref": "x",
          "y0": 0,
          "y1": 1,
          "yref": "y domain"
         },
         {
          "fillcolor": "lightgray",
          "layer": "below",
          "line": {
           "width": 0
          },
          "opacity": 0.2,
          "type": "rect",
          "x0": "2025-09-26T20:00:00+00:00",
          "x1": "2025-09-27T06:00:00+00:00",
          "xref": "x",
          "y0": 0,
          "y1": 1,
          "yref": "y domain"
         },
         {
          "fillcolor": "lightgray",
          "layer": "below",
          "line": {
           "width": 0
          },
          "opacity": 0.2,
          "type": "rect",
          "x0": "2025-09-27T20:00:00+00:00",
          "x1": "2025-09-28T06:00:00+00:00",
          "xref": "x",
          "y0": 0,
          "y1": 1,
          "yref": "y domain"
         },
         {
          "fillcolor": "lightgray",
          "layer": "below",
          "line": {
           "width": 0
          },
          "opacity": 0.2,
          "type": "rect",
          "x0": "2025-09-28T20:00:00+00:00",
          "x1": "2025-09-29T06:00:00+00:00",
          "xref": "x",
          "y0": 0,
          "y1": 1,
          "yref": "y domain"
         }
        ],
        "template": {
         "data": {
          "bar": [
           {
            "error_x": {
             "color": "#2a3f5f"
            },
            "error_y": {
             "color": "#2a3f5f"
            },
            "marker": {
             "line": {
              "color": "white",
              "width": 0.5
             },
             "pattern": {
              "fillmode": "overlay",
              "size": 10,
              "solidity": 0.2
             }
            },
            "type": "bar"
           }
          ],
          "barpolar": [
           {
            "marker": {
             "line": {
              "color": "white",
              "width": 0.5
             },
             "pattern": {
              "fillmode": "overlay",
              "size": 10,
              "solidity": 0.2
             }
            },
            "type": "barpolar"
           }
          ],
          "carpet": [
           {
            "aaxis": {
             "endlinecolor": "#2a3f5f",
             "gridcolor": "#C8D4E3",
             "linecolor": "#C8D4E3",
             "minorgridcolor": "#C8D4E3",
             "startlinecolor": "#2a3f5f"
            },
            "baxis": {
             "endlinecolor": "#2a3f5f",
             "gridcolor": "#C8D4E3",
             "linecolor": "#C8D4E3",
             "minorgridcolor": "#C8D4E3",
             "startlinecolor": "#2a3f5f"
            },
            "type": "carpet"
           }
          ],
          "choropleth": [
           {
            "colorbar": {
             "outlinewidth": 0,
             "ticks": ""
            },
            "type": "choropleth"
           }
          ],
          "contour": [
           {
            "colorbar": {
             "outlinewidth": 0,
             "ticks": ""
            },
            "colorscale": [
             [
              0,
              "#0d0887"
             ],
             [
              0.1111111111111111,
              "#46039f"
             ],
             [
              0.2222222222222222,
              "#7201a8"
             ],
             [
              0.3333333333333333,
              "#9c179e"
             ],
             [
              0.4444444444444444,
              "#bd3786"
             ],
             [
              0.5555555555555556,
              "#d8576b"
             ],
             [
              0.6666666666666666,
              "#ed7953"
             ],
             [
              0.7777777777777778,
              "#fb9f3a"
             ],
             [
              0.8888888888888888,
              "#fdca26"
             ],
             [
              1,
              "#f0f921"
             ]
            ],
            "type": "contour"
           }
          ],
          "contourcarpet": [
           {
            "colorbar": {
             "outlinewidth": 0,
             "ticks": ""
            },
            "type": "contourcarpet"
           }
          ],
          "heatmap": [
           {
            "colorbar": {
             "outlinewidth": 0,
             "ticks": ""
            },
            "colorscale": [
             [
              0,
              "#0d0887"
             ],
             [
              0.1111111111111111,
              "#46039f"
             ],
             [
              0.2222222222222222,
              "#7201a8"
             ],
             [
              0.3333333333333333,
              "#9c179e"
             ],
             [
              0.4444444444444444,
              "#bd3786"
             ],
             [
              0.5555555555555556,
              "#d8576b"
             ],
             [
              0.6666666666666666,
              "#ed7953"
             ],
             [
              0.7777777777777778,
              "#fb9f3a"
             ],
             [
              0.8888888888888888,
              "#fdca26"
             ],
             [
              1,
              "#f0f921"
             ]
            ],
            "type": "heatmap"
           }
          ],
          "histogram": [
           {
            "marker": {
             "pattern": {
              "fillmode": "overlay",
              "size": 10,
              "solidity": 0.2
             }
            },
            "type": "histogram"
           }
          ],
          "histogram2d": [
           {
            "colorbar": {
             "outlinewidth": 0,
             "ticks": ""
            },
            "colorscale": [
             [
              0,
              "#0d0887"
             ],
             [
              0.1111111111111111,
              "#46039f"
             ],
             [
              0.2222222222222222,
              "#7201a8"
             ],
             [
              0.3333333333333333,
              "#9c179e"
             ],
             [
              0.4444444444444444,
              "#bd3786"
             ],
             [
              0.5555555555555556,
              "#d8576b"
             ],
             [
              0.6666666666666666,
              "#ed7953"
             ],
             [
              0.7777777777777778,
              "#fb9f3a"
             ],
             [
              0.8888888888888888,
              "#fdca26"
             ],
             [
              1,
              "#f0f921"
             ]
            ],
            "type": "histogram2d"
           }
          ],
          "histogram2dcontour": [
           {
            "colorbar": {
             "outlinewidth": 0,
             "ticks": ""
            },
            "colorscale": [
             [
              0,
              "#0d0887"
             ],
             [
              0.1111111111111111,
              "#46039f"
             ],
             [
              0.2222222222222222,
              "#7201a8"
             ],
             [
              0.3333333333333333,
              "#9c179e"
             ],
             [
              0.4444444444444444,
              "#bd3786"
             ],
             [
              0.5555555555555556,
              "#d8576b"
             ],
             [
              0.6666666666666666,
              "#ed7953"
             ],
             [
              0.7777777777777778,
              "#fb9f3a"
             ],
             [
              0.8888888888888888,
              "#fdca26"
             ],
             [
              1,
              "#f0f921"
             ]
            ],
            "type": "histogram2dcontour"
           }
          ],
          "mesh3d": [
           {
            "colorbar": {
             "outlinewidth": 0,
             "ticks": ""
            },
            "type": "mesh3d"
           }
          ],
          "parcoords": [
           {
            "line": {
             "colorbar": {
              "outlinewidth": 0,
              "ticks": ""
             }
            },
            "type": "parcoords"
           }
          ],
          "pie": [
           {
            "automargin": true,
            "type": "pie"
           }
          ],
          "scatter": [
           {
            "fillpattern": {
             "fillmode": "overlay",
             "size": 10,
             "solidity": 0.2
            },
            "type": "scatter"
           }
          ],
          "scatter3d": [
           {
            "line": {
             "colorbar": {
              "outlinewidth": 0,
              "ticks": ""
             }
            },
            "marker": {
             "colorbar": {
              "outlinewidth": 0,
              "ticks": ""
             }
            },
            "type": "scatter3d"
           }
          ],
          "scattercarpet": [
           {
            "marker": {
             "colorbar": {
              "outlinewidth": 0,
              "ticks": ""
             }
            },
            "type": "scattercarpet"
           }
          ],
          "scattergeo": [
           {
            "marker": {
             "colorbar": {
              "outlinewidth": 0,
              "ticks": ""
             }
            },
            "type": "scattergeo"
           }
          ],
          "scattergl": [
           {
            "marker": {
             "colorbar": {
              "outlinewidth": 0,
              "ticks": ""
             }
            },
            "type": "scattergl"
           }
          ],
          "scattermap": [
           {
            "marker": {
             "colorbar": {
              "outlinewidth": 0,
              "ticks": ""
             }
            },
            "type": "scattermap"
           }
          ],
          "scattermapbox": [
           {
            "marker": {
             "colorbar": {
              "outlinewidth": 0,
              "ticks": ""
             }
            },
            "type": "scattermapbox"
           }
          ],
          "scatterpolar": [
           {
            "marker": {
             "colorbar": {
              "outlinewidth": 0,
              "ticks": ""
             }
            },
            "type": "scatterpolar"
           }
          ],
          "scatterpolargl": [
           {
            "marker": {
             "colorbar": {
              "outlinewidth": 0,
              "ticks": ""
             }
            },
            "type": "scatterpolargl"
           }
          ],
          "scatterternary": [
           {
            "marker": {
             "colorbar": {
              "outlinewidth": 0,
              "ticks": ""
             }
            },
            "type": "scatterternary"
           }
          ],
          "surface": [
           {
            "colorbar": {
             "outlinewidth": 0,
             "ticks": ""
            },
            "colorscale": [
             [
              0,
              "#0d0887"
             ],
             [
              0.1111111111111111,
              "#46039f"
             ],
             [
              0.2222222222222222,
              "#7201a8"
             ],
             [
              0.3333333333333333,
              "#9c179e"
             ],
             [
              0.4444444444444444,
              "#bd3786"
             ],
             [
              0.5555555555555556,
              "#d8576b"
             ],
             [
              0.6666666666666666,
              "#ed7953"
             ],
             [
              0.7777777777777778,
              "#fb9f3a"
             ],
             [
              0.8888888888888888,
              "#fdca26"
             ],
             [
              1,
              "#f0f921"
             ]
            ],
            "type": "surface"
           }
          ],
          "table": [
           {
            "cells": {
             "fill": {
              "color": "#EBF0F8"
             },
             "line": {
              "color": "white"
             }
            },
            "header": {
             "fill": {
              "color": "#C8D4E3"
             },
             "line": {
              "color": "white"
             }
            },
            "type": "table"
           }
          ]
         },
         "layout": {
          "annotationdefaults": {
           "arrowcolor": "#2a3f5f",
           "arrowhead": 0,
           "arrowwidth": 1
          },
          "autotypenumbers": "strict",
          "coloraxis": {
           "colorbar": {
            "outlinewidth": 0,
            "ticks": ""
           }
          },
          "colorscale": {
           "diverging": [
            [
             0,
             "#8e0152"
            ],
            [
             0.1,
             "#c51b7d"
            ],
            [
             0.2,
             "#de77ae"
            ],
            [
             0.3,
             "#f1b6da"
            ],
            [
             0.4,
             "#fde0ef"
            ],
            [
             0.5,
             "#f7f7f7"
            ],
            [
             0.6,
             "#e6f5d0"
            ],
            [
             0.7,
             "#b8e186"
            ],
            [
             0.8,
             "#7fbc41"
            ],
            [
             0.9,
             "#4d9221"
            ],
            [
             1,
             "#276419"
            ]
           ],
           "sequential": [
            [
             0,
             "#0d0887"
            ],
            [
             0.1111111111111111,
             "#46039f"
            ],
            [
             0.2222222222222222,
             "#7201a8"
            ],
            [
             0.3333333333333333,
             "#9c179e"
            ],
            [
             0.4444444444444444,
             "#bd3786"
            ],
            [
             0.5555555555555556,
             "#d8576b"
            ],
            [
             0.6666666666666666,
             "#ed7953"
            ],
            [
             0.7777777777777778,
             "#fb9f3a"
            ],
            [
             0.8888888888888888,
             "#fdca26"
            ],
            [
             1,
             "#f0f921"
            ]
           ],
           "sequentialminus": [
            [
             0,
             "#0d0887"
            ],
            [
             0.1111111111111111,
             "#46039f"
            ],
            [
             0.2222222222222222,
             "#7201a8"
            ],
            [
             0.3333333333333333,
             "#9c179e"
            ],
            [
             0.4444444444444444,
             "#bd3786"
            ],
            [
             0.5555555555555556,
             "#d8576b"
            ],
            [
             0.6666666666666666,
             "#ed7953"
            ],
            [
             0.7777777777777778,
             "#fb9f3a"
            ],
            [
             0.8888888888888888,
             "#fdca26"
            ],
            [
             1,
             "#f0f921"
            ]
           ]
          },
          "colorway": [
           "#636efa",
           "#EF553B",
           "#00cc96",
           "#ab63fa",
           "#FFA15A",
           "#19d3f3",
           "#FF6692",
           "#B6E880",
           "#FF97FF",
           "#FECB52"
          ],
          "font": {
           "color": "#2a3f5f"
          },
          "geo": {
           "bgcolor": "white",
           "lakecolor": "white",
           "landcolor": "white",
           "showlakes": true,
           "showland": true,
           "subunitcolor": "#C8D4E3"
          },
          "hoverlabel": {
           "align": "left"
          },
          "hovermode": "closest",
          "mapbox": {
           "style": "light"
          },
          "paper_bgcolor": "white",
          "plot_bgcolor": "white",
          "polar": {
           "angularaxis": {
            "gridcolor": "#EBF0F8",
            "linecolor": "#EBF0F8",
            "ticks": ""
           },
           "bgcolor": "white",
           "radialaxis": {
            "gridcolor": "#EBF0F8",
            "linecolor": "#EBF0F8",
            "ticks": ""
           }
          },
          "scene": {
           "xaxis": {
            "backgroundcolor": "white",
            "gridcolor": "#DFE8F3",
            "gridwidth": 2,
            "linecolor": "#EBF0F8",
            "showbackground": true,
            "ticks": "",
            "zerolinecolor": "#EBF0F8"
           },
           "yaxis": {
            "backgroundcolor": "white",
            "gridcolor": "#DFE8F3",
            "gridwidth": 2,
            "linecolor": "#EBF0F8",
            "showbackground": true,
            "ticks": "",
            "zerolinecolor": "#EBF0F8"
           },
           "zaxis": {
            "backgroundcolor": "white",
            "gridcolor": "#DFE8F3",
            "gridwidth": 2,
            "linecolor": "#EBF0F8",
            "showbackground": true,
            "ticks": "",
            "zerolinecolor": "#EBF0F8"
           }
          },
          "shapedefaults": {
           "line": {
            "color": "#2a3f5f"
           }
          },
          "ternary": {
           "aaxis": {
            "gridcolor": "#DFE8F3",
            "linecolor": "#A2B1C6",
            "ticks": ""
           },
           "baxis": {
            "gridcolor": "#DFE8F3",
            "linecolor": "#A2B1C6",
            "ticks": ""
           },
           "bgcolor": "white",
           "caxis": {
            "gridcolor": "#DFE8F3",
            "linecolor": "#A2B1C6",
            "ticks": ""
           }
          },
          "title": {
           "x": 0.05
          },
          "xaxis": {
           "automargin": true,
           "gridcolor": "#EBF0F8",
           "linecolor": "#EBF0F8",
           "ticks": "",
           "title": {
            "standoff": 15
           },
           "zerolinecolor": "#EBF0F8",
           "zerolinewidth": 2
          },
          "yaxis": {
           "automargin": true,
           "gridcolor": "#EBF0F8",
           "linecolor": "#EBF0F8",
           "ticks": "",
           "title": {
            "standoff": 15
           },
           "zerolinecolor": "#EBF0F8",
           "zerolinewidth": 2
          }
         }
        },
        "title": {
         "text": "Simple Scatter Plot"
        },
        "xaxis": {
         "showticklabels": false,
         "title": {
          "text": "X Axis"
         }
        },
        "yaxis": {
         "title": {
          "text": "Y Axis"
         }
        }
       }
      }
     },
     "metadata": {},
     "output_type": "display_data"
    }
   ],
   "source": [
    "import plotly.graph_objects as go\n",
    "from main import create_weather_plot, getForecast, geocoding, EMOJIS, API_KEY\n",
    "from datetime import datetime\n",
    "import pandas as pd\n",
    "from streamlit_plotly_events import plotly_events\n",
    "\n",
    "city = \"Paris\"\n",
    "lat, lon = geocoding(city)\n",
    "data = getForecast(lat, lon)\n",
    "\n",
    "temperatures = [entry[\"main\"][\"temp\"] for entry in data[\"list\"]]\n",
    "timestamps = [datetime.fromtimestamp(entry[\"dt\"]) for entry in data[\"list\"]]\n",
    "weathers = [entry[\"weather\"][0][\"main\"] for entry in data['list']]\n",
    "weather_emojis = [EMOJIS.get(w, \"❓\") for w in weathers]\n",
    "\n",
    "df = pd.DataFrame({\n",
    "    \"datetime\": timestamps,\n",
    "    \"temperature\": temperatures,\n",
    "    \"emoji\": weather_emojis\n",
    "})\n",
    "df[\"day\"] = df[\"datetime\"].dt.date\n",
    "df[\"hour\"] = df[\"datetime\"].dt.hour\n",
    "df[\"datetime\"] = pd.to_datetime(df[\"datetime\"], utc=True)\n",
    "\n",
    "# Create a scatter plot\n",
    "# fig = go.Figure(data=go.Scatter(x=[1, 2, 3, 4], y=[10, 11, 12, 13], mode='markers'))\n",
    "fig = create_weather_plot(df)\n",
    "# Customize layout\n",
    "fig.update_layout(title=\"Simple Scatter Plot\", xaxis_title=\"X Axis\", yaxis_title=\"Y Axis\")\n",
    "\n",
    "# Show the plot\n",
    "fig.show()\n"
   ]
  }
 ],
 "metadata": {
  "kernelspec": {
   "display_name": "env3-12",
   "language": "python",
   "name": "python3"
  },
  "language_info": {
   "codemirror_mode": {
    "name": "ipython",
    "version": 3
   },
   "file_extension": ".py",
   "mimetype": "text/x-python",
   "name": "python",
   "nbconvert_exporter": "python",
   "pygments_lexer": "ipython3",
   "version": "3.12.8"
  }
 },
 "nbformat": 4,
 "nbformat_minor": 5
}
