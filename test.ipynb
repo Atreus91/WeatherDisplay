{
 "cells": [
  {
   "cell_type": "code",
   "execution_count": 3,
   "id": "c80e57ec",
   "metadata": {},
   "outputs": [],
   "source": [
    "import requests\n",
    "import json\n",
    "import os\n",
    "import openweathermap as owm\n",
    "from datetime import datetime\n",
    "from zoneinfo import ZoneInfo\n",
    "import matplotlib.pyplot as plt\n",
    "import numpy as np\n",
    "import matplotlib.dates as mdates\n",
    "from scipy.interpolate import make_interp_spline\n",
    "from datetime import timedelta\n",
    "\n",
    "CITY = \"La Forêt-Sainte-Croix,FR\"\n",
    "# TZ = \"Europe/Stockholm\"\n",
    "API_KEY = \"3c4238d722f3627c0299891bf1fd0346\"\n",
    "def geocoding(city):\n",
    "    geo_url = \"https://api.openweathermap.org/geo/1.0/direct\"\n",
    "    geo_params = {\"q\": city, \"limit\": 1, \"appid\": API_KEY}\n",
    "    geo = requests.get(geo_url, params=geo_params).json()\n",
    "    assert geo, f\"Ville introuvable: {city}\"\n",
    "    lat, lon = geo[0][\"lat\"], geo[0][\"lon\"]\n",
    "    return lat, lon\n",
    "\n",
    "\n",
    "def getForecast(lat, lon):\n",
    "    oc_url = \"https://api.openweathermap.org/data/2.5/forecast\"\n",
    "    oc_params={\n",
    "            \"lat\": lat,\n",
    "            \"lon\": lon,\n",
    "            \"appid\": API_KEY,\n",
    "            \"units\": \"metric\",\n",
    "            \"exclude\": \"minutely,alerts\"\n",
    "        }\n",
    "    return requests.get(oc_url, params=oc_params).json()\n",
    "\n",
    "\n",
    "EMOJIS = {\n",
    "    \"Clear\": \"☀️\",\n",
    "    \"Clouds\": \"☁️\",\n",
    "    \"Rain\": \"🌧️\",\n",
    "    \"Snow\": \"❄️\",\n",
    "}"
   ]
  },
  {
   "cell_type": "code",
   "execution_count": 5,
   "id": "295ef269",
   "metadata": {},
   "outputs": [
    {
     "name": "stdout",
     "output_type": "stream",
     "text": [
      "48.3852225 2.2302414\n",
      "{'cod': '200', 'message': 0, 'cnt': 40, 'list': [{'dt': 1759438800, 'main': {'temp': 12.48, 'feels_like': 11.43, 'temp_min': 11.74, 'temp_max': 12.48, 'pressure': 1023, 'sea_level': 1023, 'grnd_level': 1009, 'humidity': 63, 'temp_kf': 0.74}, 'weather': [{'id': 804, 'main': 'Clouds', 'description': 'overcast clouds', 'icon': '04n'}], 'clouds': {'all': 100}, 'wind': {'speed': 2.49, 'deg': 123, 'gust': 4.37}, 'visibility': 10000, 'pop': 0, 'sys': {'pod': 'n'}, 'dt_txt': '2025-10-02 21:00:00'}, {'dt': 1759449600, 'main': {'temp': 11.22, 'feels_like': 9.91, 'temp_min': 10.4, 'temp_max': 11.22, 'pressure': 1022, 'sea_level': 1022, 'grnd_level': 1007, 'humidity': 58, 'temp_kf': 0.82}, 'weather': [{'id': 804, 'main': 'Clouds', 'description': 'overcast clouds', 'icon': '04n'}], 'clouds': {'all': 100}, 'wind': {'speed': 2.66, 'deg': 139, 'gust': 4.66}, 'visibility': 10000, 'pop': 0, 'sys': {'pod': 'n'}, 'dt_txt': '2025-10-03 00:00:00'}, {'dt': 1759460400, 'main': {'temp': 9.18, 'feels_like': 7.89, 'temp_min': 9.18, 'temp_max': 9.18, 'pressure': 1021, 'sea_level': 1021, 'grnd_level': 1006, 'humidity': 52, 'temp_kf': 0}, 'weather': [{'id': 804, 'main': 'Clouds', 'description': 'overcast clouds', 'icon': '04n'}], 'clouds': {'all': 100}, 'wind': {'speed': 2.44, 'deg': 181, 'gust': 4.26}, 'visibility': 10000, 'pop': 0, 'sys': {'pod': 'n'}, 'dt_txt': '2025-10-03 03:00:00'}, {'dt': 1759471200, 'main': {'temp': 8.6, 'feels_like': 7.14, 'temp_min': 8.6, 'temp_max': 8.6, 'pressure': 1020, 'sea_level': 1020, 'grnd_level': 1006, 'humidity': 54, 'temp_kf': 0}, 'weather': [{'id': 804, 'main': 'Clouds', 'description': 'overcast clouds', 'icon': '04d'}], 'clouds': {'all': 100}, 'wind': {'speed': 2.54, 'deg': 190, 'gust': 3.66}, 'visibility': 10000, 'pop': 0, 'sys': {'pod': 'd'}, 'dt_txt': '2025-10-03 06:00:00'}, {'dt': 1759482000, 'main': {'temp': 14.44, 'feels_like': 13.11, 'temp_min': 14.44, 'temp_max': 14.44, 'pressure': 1020, 'sea_level': 1020, 'grnd_level': 1005, 'humidity': 45, 'temp_kf': 0}, 'weather': [{'id': 804, 'main': 'Clouds', 'description': 'overcast clouds', 'icon': '04d'}], 'clouds': {'all': 100}, 'wind': {'speed': 4.11, 'deg': 174, 'gust': 5.99}, 'visibility': 10000, 'pop': 0, 'sys': {'pod': 'd'}, 'dt_txt': '2025-10-03 09:00:00'}, {'dt': 1759492800, 'main': {'temp': 16.71, 'feels_like': 15.32, 'temp_min': 16.71, 'temp_max': 16.71, 'pressure': 1018, 'sea_level': 1018, 'grnd_level': 1004, 'humidity': 34, 'temp_kf': 0}, 'weather': [{'id': 804, 'main': 'Clouds', 'description': 'overcast clouds', 'icon': '04d'}], 'clouds': {'all': 100}, 'wind': {'speed': 4.41, 'deg': 206, 'gust': 6.16}, 'visibility': 10000, 'pop': 0, 'sys': {'pod': 'd'}, 'dt_txt': '2025-10-03 12:00:00'}, {'dt': 1759503600, 'main': {'temp': 15.59, 'feels_like': 14.28, 'temp_min': 15.59, 'temp_max': 15.59, 'pressure': 1016, 'sea_level': 1016, 'grnd_level': 1002, 'humidity': 41, 'temp_kf': 0}, 'weather': [{'id': 804, 'main': 'Clouds', 'description': 'overcast clouds', 'icon': '04d'}], 'clouds': {'all': 100}, 'wind': {'speed': 3.22, 'deg': 190, 'gust': 8.26}, 'visibility': 10000, 'pop': 0, 'sys': {'pod': 'd'}, 'dt_txt': '2025-10-03 15:00:00'}, {'dt': 1759514400, 'main': {'temp': 13.87, 'feels_like': 12.96, 'temp_min': 13.87, 'temp_max': 13.87, 'pressure': 1016, 'sea_level': 1016, 'grnd_level': 1002, 'humidity': 63, 'temp_kf': 0}, 'weather': [{'id': 500, 'main': 'Rain', 'description': 'light rain', 'icon': '10n'}], 'clouds': {'all': 100}, 'wind': {'speed': 5.08, 'deg': 198, 'gust': 11}, 'visibility': 10000, 'pop': 0.39, 'rain': {'3h': 0.51}, 'sys': {'pod': 'n'}, 'dt_txt': '2025-10-03 18:00:00'}, {'dt': 1759525200, 'main': {'temp': 13.72, 'feels_like': 13.39, 'temp_min': 13.72, 'temp_max': 13.72, 'pressure': 1015, 'sea_level': 1015, 'grnd_level': 1001, 'humidity': 86, 'temp_kf': 0}, 'weather': [{'id': 500, 'main': 'Rain', 'description': 'light rain', 'icon': '10n'}], 'clouds': {'all': 100}, 'wind': {'speed': 6.28, 'deg': 196, 'gust': 13.17}, 'visibility': 10000, 'pop': 1, 'rain': {'3h': 1.44}, 'sys': {'pod': 'n'}, 'dt_txt': '2025-10-03 21:00:00'}, {'dt': 1759536000, 'main': {'temp': 16.23, 'feels_like': 16.36, 'temp_min': 16.23, 'temp_max': 16.23, 'pressure': 1012, 'sea_level': 1012, 'grnd_level': 998, 'humidity': 94, 'temp_kf': 0}, 'weather': [{'id': 804, 'main': 'Clouds', 'description': 'overcast clouds', 'icon': '04n'}], 'clouds': {'all': 100}, 'wind': {'speed': 7.53, 'deg': 212, 'gust': 14.19}, 'visibility': 10000, 'pop': 0.8, 'sys': {'pod': 'n'}, 'dt_txt': '2025-10-04 00:00:00'}, {'dt': 1759546800, 'main': {'temp': 17.51, 'feels_like': 17.69, 'temp_min': 17.51, 'temp_max': 17.51, 'pressure': 1010, 'sea_level': 1010, 'grnd_level': 996, 'humidity': 91, 'temp_kf': 0}, 'weather': [{'id': 500, 'main': 'Rain', 'description': 'light rain', 'icon': '10n'}], 'clouds': {'all': 100}, 'wind': {'speed': 9.15, 'deg': 223, 'gust': 15.99}, 'visibility': 10000, 'pop': 0.2, 'rain': {'3h': 0.15}, 'sys': {'pod': 'n'}, 'dt_txt': '2025-10-04 03:00:00'}, {'dt': 1759557600, 'main': {'temp': 17.57, 'feels_like': 17.65, 'temp_min': 17.57, 'temp_max': 17.57, 'pressure': 1008, 'sea_level': 1008, 'grnd_level': 994, 'humidity': 87, 'temp_kf': 0}, 'weather': [{'id': 500, 'main': 'Rain', 'description': 'light rain', 'icon': '10d'}], 'clouds': {'all': 100}, 'wind': {'speed': 10.6, 'deg': 221, 'gust': 18.45}, 'visibility': 10000, 'pop': 0.2, 'rain': {'3h': 0.18}, 'sys': {'pod': 'd'}, 'dt_txt': '2025-10-04 06:00:00'}, {'dt': 1759568400, 'main': {'temp': 13.18, 'feels_like': 12.83, 'temp_min': 13.18, 'temp_max': 13.18, 'pressure': 1009, 'sea_level': 1009, 'grnd_level': 995, 'humidity': 87, 'temp_kf': 0}, 'weather': [{'id': 500, 'main': 'Rain', 'description': 'light rain', 'icon': '10d'}], 'clouds': {'all': 100}, 'wind': {'speed': 7.87, 'deg': 296, 'gust': 13.4}, 'visibility': 10000, 'pop': 1, 'rain': {'3h': 2.32}, 'sys': {'pod': 'd'}, 'dt_txt': '2025-10-04 09:00:00'}, {'dt': 1759579200, 'main': {'temp': 13.24, 'feels_like': 12.37, 'temp_min': 13.24, 'temp_max': 13.24, 'pressure': 1012, 'sea_level': 1012, 'grnd_level': 998, 'humidity': 67, 'temp_kf': 0}, 'weather': [{'id': 500, 'main': 'Rain', 'description': 'light rain', 'icon': '10d'}], 'clouds': {'all': 100}, 'wind': {'speed': 7.87, 'deg': 289, 'gust': 13.23}, 'visibility': 10000, 'pop': 1, 'rain': {'3h': 2.33}, 'sys': {'pod': 'd'}, 'dt_txt': '2025-10-04 12:00:00'}, {'dt': 1759590000, 'main': {'temp': 16.59, 'feels_like': 15.35, 'temp_min': 16.59, 'temp_max': 16.59, 'pressure': 1013, 'sea_level': 1013, 'grnd_level': 999, 'humidity': 40, 'temp_kf': 0}, 'weather': [{'id': 801, 'main': 'Clouds', 'description': 'few clouds', 'icon': '02d'}], 'clouds': {'all': 15}, 'wind': {'speed': 8.79, 'deg': 276, 'gust': 14.55}, 'visibility': 10000, 'pop': 0, 'sys': {'pod': 'd'}, 'dt_txt': '2025-10-04 15:00:00'}, {'dt': 1759600800, 'main': {'temp': 12.48, 'feels_like': 11.19, 'temp_min': 12.48, 'temp_max': 12.48, 'pressure': 1016, 'sea_level': 1016, 'grnd_level': 1002, 'humidity': 54, 'temp_kf': 0}, 'weather': [{'id': 801, 'main': 'Clouds', 'description': 'few clouds', 'icon': '02n'}], 'clouds': {'all': 11}, 'wind': {'speed': 8.03, 'deg': 271, 'gust': 13.63}, 'visibility': 10000, 'pop': 0, 'sys': {'pod': 'n'}, 'dt_txt': '2025-10-04 18:00:00'}, {'dt': 1759611600, 'main': {'temp': 10.83, 'feels_like': 9.69, 'temp_min': 10.83, 'temp_max': 10.83, 'pressure': 1019, 'sea_level': 1019, 'grnd_level': 1004, 'humidity': 66, 'temp_kf': 0}, 'weather': [{'id': 800, 'main': 'Clear', 'description': 'clear sky', 'icon': '01n'}], 'clouds': {'all': 0}, 'wind': {'speed': 7.24, 'deg': 261, 'gust': 13.3}, 'visibility': 10000, 'pop': 0, 'sys': {'pod': 'n'}, 'dt_txt': '2025-10-04 21:00:00'}, {'dt': 1759622400, 'main': {'temp': 11.05, 'feels_like': 10.01, 'temp_min': 11.05, 'temp_max': 11.05, 'pressure': 1020, 'sea_level': 1020, 'grnd_level': 1006, 'humidity': 69, 'temp_kf': 0}, 'weather': [{'id': 802, 'main': 'Clouds', 'description': 'scattered clouds', 'icon': '03n'}], 'clouds': {'all': 29}, 'wind': {'speed': 7.48, 'deg': 252, 'gust': 12.55}, 'visibility': 10000, 'pop': 0, 'sys': {'pod': 'n'}, 'dt_txt': '2025-10-05 00:00:00'}, {'dt': 1759633200, 'main': {'temp': 10.59, 'feels_like': 9.74, 'temp_min': 10.59, 'temp_max': 10.59, 'pressure': 1021, 'sea_level': 1021, 'grnd_level': 1007, 'humidity': 78, 'temp_kf': 0}, 'weather': [{'id': 803, 'main': 'Clouds', 'description': 'broken clouds', 'icon': '04n'}], 'clouds': {'all': 84}, 'wind': {'speed': 6.92, 'deg': 255, 'gust': 12.72}, 'visibility': 10000, 'pop': 0, 'sys': {'pod': 'n'}, 'dt_txt': '2025-10-05 03:00:00'}, {'dt': 1759644000, 'main': {'temp': 8.42, 'feels_like': 5.76, 'temp_min': 8.42, 'temp_max': 8.42, 'pressure': 1023, 'sea_level': 1023, 'grnd_level': 1008, 'humidity': 88, 'temp_kf': 0}, 'weather': [{'id': 802, 'main': 'Clouds', 'description': 'scattered clouds', 'icon': '03d'}], 'clouds': {'all': 42}, 'wind': {'speed': 4.66, 'deg': 248, 'gust': 10.68}, 'visibility': 10000, 'pop': 0, 'sys': {'pod': 'd'}, 'dt_txt': '2025-10-05 06:00:00'}, {'dt': 1759654800, 'main': {'temp': 13.64, 'feels_like': 12.78, 'temp_min': 13.64, 'temp_max': 13.64, 'pressure': 1024, 'sea_level': 1024, 'grnd_level': 1010, 'humidity': 66, 'temp_kf': 0}, 'weather': [{'id': 802, 'main': 'Clouds', 'description': 'scattered clouds', 'icon': '03d'}], 'clouds': {'all': 35}, 'wind': {'speed': 6.48, 'deg': 277, 'gust': 8.89}, 'visibility': 10000, 'pop': 0, 'sys': {'pod': 'd'}, 'dt_txt': '2025-10-05 09:00:00'}, {'dt': 1759665600, 'main': {'temp': 16.2, 'feels_like': 15.1, 'temp_min': 16.2, 'temp_max': 16.2, 'pressure': 1024, 'sea_level': 1024, 'grnd_level': 1010, 'humidity': 47, 'temp_kf': 0}, 'weather': [{'id': 803, 'main': 'Clouds', 'description': 'broken clouds', 'icon': '04d'}], 'clouds': {'all': 59}, 'wind': {'speed': 5.82, 'deg': 307, 'gust': 8.34}, 'visibility': 10000, 'pop': 0, 'sys': {'pod': 'd'}, 'dt_txt': '2025-10-05 12:00:00'}, {'dt': 1759676400, 'main': {'temp': 16.13, 'feels_like': 15.1, 'temp_min': 16.13, 'temp_max': 16.13, 'pressure': 1025, 'sea_level': 1025, 'grnd_level': 1011, 'humidity': 50, 'temp_kf': 0}, 'weather': [{'id': 803, 'main': 'Clouds', 'description': 'broken clouds', 'icon': '04d'}], 'clouds': {'all': 67}, 'wind': {'speed': 6.44, 'deg': 297, 'gust': 8.08}, 'visibility': 10000, 'pop': 0, 'sys': {'pod': 'd'}, 'dt_txt': '2025-10-05 15:00:00'}, {'dt': 1759687200, 'main': {'temp': 12.3, 'feels_like': 11.23, 'temp_min': 12.3, 'temp_max': 12.3, 'pressure': 1027, 'sea_level': 1027, 'grnd_level': 1012, 'humidity': 63, 'temp_kf': 0}, 'weather': [{'id': 803, 'main': 'Clouds', 'description': 'broken clouds', 'icon': '04n'}], 'clouds': {'all': 83}, 'wind': {'speed': 3.03, 'deg': 303, 'gust': 5.96}, 'visibility': 10000, 'pop': 0, 'sys': {'pod': 'n'}, 'dt_txt': '2025-10-05 18:00:00'}, {'dt': 1759698000, 'main': {'temp': 10.42, 'feels_like': 9.5, 'temp_min': 10.42, 'temp_max': 10.42, 'pressure': 1028, 'sea_level': 1028, 'grnd_level': 1014, 'humidity': 76, 'temp_kf': 0}, 'weather': [{'id': 804, 'main': 'Clouds', 'description': 'overcast clouds', 'icon': '04n'}], 'clouds': {'all': 92}, 'wind': {'speed': 2.64, 'deg': 295, 'gust': 3.95}, 'visibility': 10000, 'pop': 0, 'sys': {'pod': 'n'}, 'dt_txt': '2025-10-05 21:00:00'}, {'dt': 1759708800, 'main': {'temp': 11.09, 'feels_like': 10.16, 'temp_min': 11.09, 'temp_max': 11.09, 'pressure': 1029, 'sea_level': 1029, 'grnd_level': 1014, 'humidity': 73, 'temp_kf': 0}, 'weather': [{'id': 803, 'main': 'Clouds', 'description': 'broken clouds', 'icon': '04n'}], 'clouds': {'all': 83}, 'wind': {'speed': 2.67, 'deg': 270, 'gust': 5.79}, 'visibility': 10000, 'pop': 0, 'sys': {'pod': 'n'}, 'dt_txt': '2025-10-06 00:00:00'}, {'dt': 1759719600, 'main': {'temp': 9.54, 'feels_like': 7.92, 'temp_min': 9.54, 'temp_max': 9.54, 'pressure': 1029, 'sea_level': 1029, 'grnd_level': 1014, 'humidity': 86, 'temp_kf': 0}, 'weather': [{'id': 803, 'main': 'Clouds', 'description': 'broken clouds', 'icon': '04n'}], 'clouds': {'all': 80}, 'wind': {'speed': 3.07, 'deg': 289, 'gust': 5.51}, 'visibility': 10000, 'pop': 0, 'sys': {'pod': 'n'}, 'dt_txt': '2025-10-06 03:00:00'}, {'dt': 1759730400, 'main': {'temp': 10.23, 'feels_like': 9.55, 'temp_min': 10.23, 'temp_max': 10.23, 'pressure': 1029, 'sea_level': 1029, 'grnd_level': 1015, 'humidity': 86, 'temp_kf': 0}, 'weather': [{'id': 803, 'main': 'Clouds', 'description': 'broken clouds', 'icon': '04d'}], 'clouds': {'all': 80}, 'wind': {'speed': 2.6, 'deg': 270, 'gust': 4.77}, 'visibility': 10000, 'pop': 0, 'sys': {'pod': 'd'}, 'dt_txt': '2025-10-06 06:00:00'}, {'dt': 1759741200, 'main': {'temp': 14.56, 'feels_like': 13.85, 'temp_min': 14.56, 'temp_max': 14.56, 'pressure': 1030, 'sea_level': 1030, 'grnd_level': 1016, 'humidity': 68, 'temp_kf': 0}, 'weather': [{'id': 804, 'main': 'Clouds', 'description': 'overcast clouds', 'icon': '04d'}], 'clouds': {'all': 93}, 'wind': {'speed': 2.86, 'deg': 280, 'gust': 3.56}, 'visibility': 10000, 'pop': 0, 'sys': {'pod': 'd'}, 'dt_txt': '2025-10-06 09:00:00'}, {'dt': 1759752000, 'main': {'temp': 17.64, 'feels_like': 16.92, 'temp_min': 17.64, 'temp_max': 17.64, 'pressure': 1030, 'sea_level': 1030, 'grnd_level': 1015, 'humidity': 56, 'temp_kf': 0}, 'weather': [{'id': 803, 'main': 'Clouds', 'description': 'broken clouds', 'icon': '04d'}], 'clouds': {'all': 82}, 'wind': {'speed': 3.03, 'deg': 286, 'gust': 3.25}, 'visibility': 10000, 'pop': 0, 'sys': {'pod': 'd'}, 'dt_txt': '2025-10-06 12:00:00'}, {'dt': 1759762800, 'main': {'temp': 18.95, 'feels_like': 18.26, 'temp_min': 18.95, 'temp_max': 18.95, 'pressure': 1029, 'sea_level': 1029, 'grnd_level': 1014, 'humidity': 52, 'temp_kf': 0}, 'weather': [{'id': 803, 'main': 'Clouds', 'description': 'broken clouds', 'icon': '04d'}], 'clouds': {'all': 52}, 'wind': {'speed': 2.01, 'deg': 305, 'gust': 2.49}, 'visibility': 10000, 'pop': 0, 'sys': {'pod': 'd'}, 'dt_txt': '2025-10-06 15:00:00'}, {'dt': 1759773600, 'main': {'temp': 15.1, 'feels_like': 14.42, 'temp_min': 15.1, 'temp_max': 15.1, 'pressure': 1029, 'sea_level': 1029, 'grnd_level': 1014, 'humidity': 67, 'temp_kf': 0}, 'weather': [{'id': 802, 'main': 'Clouds', 'description': 'scattered clouds', 'icon': '03n'}], 'clouds': {'all': 28}, 'wind': {'speed': 0.4, 'deg': 177, 'gust': 0.73}, 'visibility': 10000, 'pop': 0, 'sys': {'pod': 'n'}, 'dt_txt': '2025-10-06 18:00:00'}, {'dt': 1759784400, 'main': {'temp': 13.4, 'feels_like': 12.73, 'temp_min': 13.4, 'temp_max': 13.4, 'pressure': 1029, 'sea_level': 1029, 'grnd_level': 1015, 'humidity': 74, 'temp_kf': 0}, 'weather': [{'id': 800, 'main': 'Clear', 'description': 'clear sky', 'icon': '01n'}], 'clouds': {'all': 0}, 'wind': {'speed': 0.67, 'deg': 130, 'gust': 0.88}, 'visibility': 10000, 'pop': 0, 'sys': {'pod': 'n'}, 'dt_txt': '2025-10-06 21:00:00'}, {'dt': 1759795200, 'main': {'temp': 12.12, 'feels_like': 11.45, 'temp_min': 12.12, 'temp_max': 12.12, 'pressure': 1029, 'sea_level': 1029, 'grnd_level': 1014, 'humidity': 79, 'temp_kf': 0}, 'weather': [{'id': 800, 'main': 'Clear', 'description': 'clear sky', 'icon': '01n'}], 'clouds': {'all': 0}, 'wind': {'speed': 1.33, 'deg': 156, 'gust': 1.39}, 'visibility': 10000, 'pop': 0, 'sys': {'pod': 'n'}, 'dt_txt': '2025-10-07 00:00:00'}, {'dt': 1759806000, 'main': {'temp': 11.24, 'feels_like': 10.59, 'temp_min': 11.24, 'temp_max': 11.24, 'pressure': 1028, 'sea_level': 1028, 'grnd_level': 1014, 'humidity': 83, 'temp_kf': 0}, 'weather': [{'id': 800, 'main': 'Clear', 'description': 'clear sky', 'icon': '01n'}], 'clouds': {'all': 5}, 'wind': {'speed': 1.38, 'deg': 160, 'gust': 1.37}, 'visibility': 10000, 'pop': 0, 'sys': {'pod': 'n'}, 'dt_txt': '2025-10-07 03:00:00'}, {'dt': 1759816800, 'main': {'temp': 10.58, 'feels_like': 9.97, 'temp_min': 10.58, 'temp_max': 10.58, 'pressure': 1028, 'sea_level': 1028, 'grnd_level': 1013, 'humidity': 87, 'temp_kf': 0}, 'weather': [{'id': 802, 'main': 'Clouds', 'description': 'scattered clouds', 'icon': '03d'}], 'clouds': {'all': 31}, 'wind': {'speed': 1.75, 'deg': 136, 'gust': 1.73}, 'visibility': 10000, 'pop': 0, 'sys': {'pod': 'd'}, 'dt_txt': '2025-10-07 06:00:00'}, {'dt': 1759827600, 'main': {'temp': 15.93, 'feels_like': 15.28, 'temp_min': 15.93, 'temp_max': 15.93, 'pressure': 1028, 'sea_level': 1028, 'grnd_level': 1014, 'humidity': 65, 'temp_kf': 0}, 'weather': [{'id': 804, 'main': 'Clouds', 'description': 'overcast clouds', 'icon': '04d'}], 'clouds': {'all': 95}, 'wind': {'speed': 2.45, 'deg': 149, 'gust': 2.73}, 'visibility': 10000, 'pop': 0, 'sys': {'pod': 'd'}, 'dt_txt': '2025-10-07 09:00:00'}, {'dt': 1759838400, 'main': {'temp': 20.12, 'feels_like': 19.55, 'temp_min': 20.12, 'temp_max': 20.12, 'pressure': 1026, 'sea_level': 1026, 'grnd_level': 1012, 'humidity': 52, 'temp_kf': 0}, 'weather': [{'id': 804, 'main': 'Clouds', 'description': 'overcast clouds', 'icon': '04d'}], 'clouds': {'all': 97}, 'wind': {'speed': 2.1, 'deg': 142, 'gust': 2.23}, 'visibility': 10000, 'pop': 0, 'sys': {'pod': 'd'}, 'dt_txt': '2025-10-07 12:00:00'}, {'dt': 1759849200, 'main': {'temp': 21.48, 'feels_like': 20.96, 'temp_min': 21.48, 'temp_max': 21.48, 'pressure': 1024, 'sea_level': 1024, 'grnd_level': 1010, 'humidity': 49, 'temp_kf': 0}, 'weather': [{'id': 802, 'main': 'Clouds', 'description': 'scattered clouds', 'icon': '03d'}], 'clouds': {'all': 45}, 'wind': {'speed': 1.77, 'deg': 75, 'gust': 1.48}, 'visibility': 10000, 'pop': 0, 'sys': {'pod': 'd'}, 'dt_txt': '2025-10-07 15:00:00'}, {'dt': 1759860000, 'main': {'temp': 16.68, 'feels_like': 16.21, 'temp_min': 16.68, 'temp_max': 16.68, 'pressure': 1023, 'sea_level': 1023, 'grnd_level': 1009, 'humidity': 69, 'temp_kf': 0}, 'weather': [{'id': 803, 'main': 'Clouds', 'description': 'broken clouds', 'icon': '04n'}], 'clouds': {'all': 70}, 'wind': {'speed': 2.83, 'deg': 117, 'gust': 2.65}, 'visibility': 10000, 'pop': 0, 'sys': {'pod': 'n'}, 'dt_txt': '2025-10-07 18:00:00'}], 'city': {'id': 6457365, 'name': \"Arrondissement d'Étampes\", 'coord': {'lat': 48.3852, 'lon': 2.2302}, 'country': 'FR', 'population': 134012, 'timezone': 7200, 'sunrise': 1759384303, 'sunset': 1759426135}}\n"
     ]
    }
   ],
   "source": [
    "lat, lon = geocoding(CITY)\n",
    "data = getForecast(lat, lon)\n",
    "print(lat, lon)\n",
    "print(data)"
   ]
  },
  {
   "cell_type": "code",
   "execution_count": 3,
   "id": "8352c507",
   "metadata": {},
   "outputs": [],
   "source": [
    "# Extrait les données à afficher\n",
    "temperatures = [entry[\"main\"][\"temp\"] for entry in data[\"list\"]]\n",
    "timestamps = [datetime.fromtimestamp(entry[\"dt\"]) for entry in data[\"list\"]]\n",
    "weathers = [entry[\"weather\"][0][\"main\"] for entry in data['list']]\n",
    "weather_emojis = [EMOJIS.get(w, \"❓\") for w in weathers]"
   ]
  },
  {
   "cell_type": "code",
   "execution_count": null,
   "id": "3d314447",
   "metadata": {},
   "outputs": [
    {
     "name": "stderr",
     "output_type": "stream",
     "text": [
      "2025-09-11 18:01:08.934 WARNING streamlit.runtime.scriptrunner_utils.script_run_context: Thread 'MainThread': missing ScriptRunContext! This warning can be ignored when running in bare mode.\n",
      "2025-09-11 18:01:08.934 WARNING streamlit.runtime.scriptrunner_utils.script_run_context: Thread 'MainThread': missing ScriptRunContext! This warning can be ignored when running in bare mode.\n",
      "2025-09-11 18:01:09.756 \n",
      "  \u001b[33m\u001b[1mWarning:\u001b[0m to view this Streamlit app on a browser, run it with the following\n",
      "  command:\n",
      "\n",
      "    streamlit run c:\\Users\\cleme\\Documents\\Coding\\env3-12\\Lib\\site-packages\\ipykernel_launcher.py [ARGUMENTS]\n",
      "2025-09-11 18:01:09.756 Thread 'MainThread': missing ScriptRunContext! This warning can be ignored when running in bare mode.\n",
      "2025-09-11 18:01:09.756 Thread 'MainThread': missing ScriptRunContext! This warning can be ignored when running in bare mode.\n",
      "2025-09-11 18:01:09.756 Thread 'MainThread': missing ScriptRunContext! This warning can be ignored when running in bare mode.\n",
      "2025-09-11 18:01:09.756 Thread 'MainThread': missing ScriptRunContext! This warning can be ignored when running in bare mode.\n",
      "2025-09-11 18:01:09.756 Thread 'MainThread': missing ScriptRunContext! This warning can be ignored when running in bare mode.\n",
      "2025-09-11 18:01:09.756 Thread 'MainThread': missing ScriptRunContext! This warning can be ignored when running in bare mode.\n",
      "2025-09-11 18:01:09.756 Session state does not function when running a script without `streamlit run`\n",
      "2025-09-11 18:01:09.767 Thread 'MainThread': missing ScriptRunContext! This warning can be ignored when running in bare mode.\n",
      "2025-09-11 18:01:09.767 Thread 'MainThread': missing ScriptRunContext! This warning can be ignored when running in bare mode.\n",
      "2025-09-11 18:01:09.767 Thread 'MainThread': missing ScriptRunContext! This warning can be ignored when running in bare mode.\n"
     ]
    },
    {
     "ename": "AttributeError",
     "evalue": "'dict' object has no attribute 'sort_values'",
     "output_type": "error",
     "traceback": [
      "\u001b[1;31m---------------------------------------------------------------------------\u001b[0m",
      "\u001b[1;31mAttributeError\u001b[0m                            Traceback (most recent call last)",
      "Cell \u001b[1;32mIn[8], line 20\u001b[0m\n\u001b[0;32m     17\u001b[0m data \u001b[38;5;241m=\u001b[39m requests\u001b[38;5;241m.\u001b[39mget(forecast_url)\u001b[38;5;241m.\u001b[39mjson()\n\u001b[0;32m     19\u001b[0m \u001b[38;5;28;01mif\u001b[39;00m \u001b[38;5;124m\"\u001b[39m\u001b[38;5;124mlist\u001b[39m\u001b[38;5;124m\"\u001b[39m \u001b[38;5;129;01min\u001b[39;00m data:\n\u001b[1;32m---> 20\u001b[0m     fig \u001b[38;5;241m=\u001b[39m \u001b[43mcreate_weather_plot\u001b[49m\u001b[43m(\u001b[49m\u001b[43mdata\u001b[49m\u001b[43m)\u001b[49m  \u001b[38;5;66;03m# ta fonction de graphique Plotly\u001b[39;00m\n\u001b[0;32m     21\u001b[0m     st\u001b[38;5;241m.\u001b[39mplotly_chart(fig, use_container_width\u001b[38;5;241m=\u001b[39m\u001b[38;5;28;01mTrue\u001b[39;00m)\n\u001b[0;32m     22\u001b[0m \u001b[38;5;28;01melse\u001b[39;00m:\n",
      "Cell \u001b[1;32mIn[7], line 31\u001b[0m, in \u001b[0;36mcreate_weather_plot\u001b[1;34m(filtered_df, day)\u001b[0m\n\u001b[0;32m     29\u001b[0m \u001b[38;5;28;01mdef\u001b[39;00m \u001b[38;5;21mcreate_weather_plot\u001b[39m(filtered_df, day\u001b[38;5;241m=\u001b[39m\u001b[38;5;28;01mNone\u001b[39;00m):\n\u001b[1;32m---> 31\u001b[0m     filtered_df \u001b[38;5;241m=\u001b[39m \u001b[43mfiltered_df\u001b[49m\u001b[38;5;241;43m.\u001b[39;49m\u001b[43msort_values\u001b[49m(\u001b[38;5;124m\"\u001b[39m\u001b[38;5;124mdatetime\u001b[39m\u001b[38;5;124m\"\u001b[39m)\n\u001b[0;32m     32\u001b[0m     \u001b[38;5;66;03m# Interpolation\u001b[39;00m\n\u001b[0;32m     33\u001b[0m     x_raw \u001b[38;5;241m=\u001b[39m np\u001b[38;5;241m.\u001b[39marray([ts\u001b[38;5;241m.\u001b[39mtimestamp() \u001b[38;5;28;01mfor\u001b[39;00m ts \u001b[38;5;129;01min\u001b[39;00m filtered_df[\u001b[38;5;124m\"\u001b[39m\u001b[38;5;124mdatetime\u001b[39m\u001b[38;5;124m\"\u001b[39m]])\n",
      "\u001b[1;31mAttributeError\u001b[0m: 'dict' object has no attribute 'sort_values'"
     ]
    }
   ],
   "source": [
    "import streamlit as st\n",
    "import requests\n",
    "import pandas as pd\n",
    "from datetime import datetime\n",
    "from dash import Dash, dcc, html, Input, Output, ctx, State\n",
    "import plotly.graph_objects as go\n",
    "import numpy as np\n",
    "from scipy.interpolate import make_interp_spline\n",
    "from datetime import datetime, timedelta\n",
    "from datetime import tzinfo\n",
    "from datetime import timezone\n",
    "\n",
    "\n",
    "st.set_page_config(page_title=\"Weather App ☁️\", layout=\"wide\")\n",
    "\n",
    "st.title(\"🌦️ Weather Forecast Viewer\")\n",
    "\n",
    "city = st.text_input(\"Entrez une ville\", value=\"Paris\")\n",
    "\n",
    "if city:\n",
    "    lat, lon = geocoding(city)\n",
    "\n",
    "    data = getForecast(lat, lon)\n",
    "    temperatures = [entry[\"main\"][\"temp\"] for entry in data[\"list\"]]\n",
    "    timestamps = [datetime.fromtimestamp(entry[\"dt\"]) for entry in data[\"list\"]]\n",
    "    weathers = [entry[\"weather\"][0][\"main\"] for entry in data['list']]\n",
    "    weather_emojis = [EMOJIS.get(w, \"❓\") for w in weathers]\n",
    "\n",
    "    df = pd.DataFrame({\n",
    "        \"datetime\": timestamps,\n",
    "        \"temperature\": temperatures,\n",
    "        \"emoji\": weather_emojis\n",
    "    })\n",
    "    df[\"day\"] = df[\"datetime\"].dt.date\n",
    "    df[\"hour\"] = df[\"datetime\"].dt.hour\n",
    "    df[\"datetime\"] = pd.to_datetime(df[\"datetime\"], utc=True)\n",
    "    \n",
    "    # App Dash\n",
    "    app = Dash(__name__)\n",
    "    app.layout = html.Div([\n",
    "        html.H3(id='day-label', children=''),\n",
    "        dcc.Store(id=\"stored_day\"),\n",
    "        dcc.Graph(id=\"graph\", figure=create_weather_plot(df)),\n",
    "    ])\n",
    "\n",
    "\n",
    "\n",
    "    @app.callback(\n",
    "        Output(\"graph\", \"figure\"),\n",
    "        Output(\"stored_day\", \"data\"),  # ← Mémoire du jour affiché\n",
    "        Input(\"graph\", \"clickData\"),\n",
    "        State(\"stored_day\", \"data\")\n",
    "    )\n",
    "\n",
    "    if __name__ == \"__main__\":\n",
    "        app.run(debug=True)\n",
    "\n",
    "    "
   ]
  },
  {
   "cell_type": "code",
   "execution_count": null,
   "id": "87df0e52",
   "metadata": {},
   "outputs": [],
   "source": [
    "from dash import Dash, dcc, html, Input, Output, ctx, State\n",
    "import plotly.graph_objects as go\n",
    "import pandas as pd\n",
    "import numpy as np\n",
    "from scipy.interpolate import make_interp_spline\n",
    "from datetime import datetime, timedelta\n",
    "from datetime import tzinfo\n",
    "from datetime import timezone\n",
    "\n",
    "\n",
    "# Tes données simulées : à remplacer par data[\"list\"]\n",
    "# → ici tu remplaces par ton vrai parsing\n",
    "temperatures = [entry[\"main\"][\"temp\"] for entry in data[\"list\"]]\n",
    "timestamps = [datetime.fromtimestamp(entry[\"dt\"]) for entry in data[\"list\"]]\n",
    "weathers = [entry[\"weather\"][0][\"main\"] for entry in data['list']]\n",
    "EMOJIS = {\"Clear\": \"☀️\", \"Rain\": \"🌧️\", \"Clouds\": \"☁️\", \"Snow\": \"❄️\", \"Thunderstorm\": \"⚡\"}\n",
    "weather_emojis = [EMOJIS.get(w, \"❓\") for w in weathers]\n",
    "\n",
    "df = pd.DataFrame({\n",
    "    \"datetime\": timestamps,\n",
    "    \"temperature\": temperatures,\n",
    "    \"emoji\": weather_emojis\n",
    "})\n",
    "df[\"day\"] = df[\"datetime\"].dt.date\n",
    "df[\"hour\"] = df[\"datetime\"].dt.hour\n",
    "df[\"datetime\"] = pd.to_datetime(df[\"datetime\"], utc=True)\n",
    "\n",
    "\n",
    "def create_weather_plot(filtered_df, day=None):\n",
    "\n",
    "    filtered_df = filtered_df.sort_values(\"datetime\")\n",
    "    # Interpolation\n",
    "    x_raw = np.array([ts.timestamp() for ts in filtered_df[\"datetime\"]])\n",
    "    y_raw = np.array(filtered_df[\"temperature\"])\n",
    "    if len(x_raw) >= 4:\n",
    "        x_new = np.linspace(x_raw.min(), x_raw.max(), 300)\n",
    "        spline = make_interp_spline(x_raw, y_raw, k=3)\n",
    "        y_smooth = spline(x_new)\n",
    "        x_smooth = [datetime.fromtimestamp(ts, timezone.utc) for ts in x_new]\n",
    "    else:\n",
    "        x_smooth, y_smooth = [], []\n",
    "    \n",
    "    # print(\"min/max temps réel :\", min(filtered_df[\"datetime\"]), max(filtered_df[\"datetime\"]))\n",
    "    # print(\"min/max x_smooth :\", min(x_smooth), max(x_smooth))\n",
    "\n",
    "    fig = go.Figure()\n",
    "\n",
    "    # Température réelle\n",
    "    fig.add_trace(go.Scatter(\n",
    "        x=filtered_df[\"datetime\"],\n",
    "        y=filtered_df[\"temperature\"],\n",
    "        mode='markers+lines',\n",
    "        name='Température',\n",
    "        customdata=filtered_df[\"emoji\"],\n",
    "        hovertemplate=\"%{x|%A %Hh}<br>Temp: %{y:.1f}°C<br>%{customdata}\"\n",
    "    ))\n",
    "\n",
    "    # Température lissée\n",
    "    if x_smooth:\n",
    "        fig.add_trace(go.Scatter(\n",
    "            x=x_smooth,\n",
    "            y=y_smooth,\n",
    "            mode='lines',\n",
    "            name='Température lissée',\n",
    "            line=dict(color='red', width=2, dash='dot'),\n",
    "        ))\n",
    "\n",
    "    # Fond nuit\n",
    "    for i, row in filtered_df.iterrows():\n",
    "        if row[\"hour\"] == 20:\n",
    "            start = row[\"datetime\"]\n",
    "            end = start + timedelta(hours=10)\n",
    "            fig.add_vrect(\n",
    "                x0=start, x1=end,\n",
    "                fillcolor=\"lightgray\", opacity=0.2, line_width=0,\n",
    "                layer=\"below\"\n",
    "            )\n",
    "\n",
    "    # Ajout des noms de jour\n",
    "    unique_days = filtered_df[\"day\"].unique()\n",
    "    for i in range(len(unique_days) - 1):\n",
    "        day_start = filtered_df[filtered_df[\"day\"] == unique_days[i]][\"datetime\"].min()\n",
    "        day_end = filtered_df[filtered_df[\"day\"] == unique_days[i + 1]][\"datetime\"].min()\n",
    "        mid = day_start + (day_end - day_start) / 2\n",
    "\n",
    "        fig.add_annotation(\n",
    "            x=mid, y=max(filtered_df[\"temperature\"]),\n",
    "            text=unique_days[i].strftime(\"%A %d\"),\n",
    "            showarrow=False,\n",
    "            yshift=20,\n",
    "            font=dict(size=12, color=\"black\")\n",
    "        )\n",
    "\n",
    "    # Dernier jour\n",
    "    if len(unique_days) >= 2:\n",
    "        last_day = unique_days[-1]\n",
    "        day_start = filtered_df[filtered_df[\"day\"] == last_day][\"datetime\"].min()\n",
    "        mid = day_start + timedelta(hours=12)\n",
    "        fig.add_annotation(\n",
    "            x=mid, y=max(filtered_df[\"temperature\"]),\n",
    "            text=last_day.strftime(\"%A %d\"),\n",
    "            showarrow=False,\n",
    "            yshift=20,\n",
    "            font=dict(size=12, color=\"black\")\n",
    "        )\n",
    "\n",
    "    # Emojis météo en texte\n",
    "    fig.add_trace(go.Scatter(\n",
    "        x=filtered_df[\"datetime\"],\n",
    "        y=filtered_df[\"temperature\"],\n",
    "        mode=\"text\",\n",
    "        text=filtered_df[\"emoji\"],\n",
    "        name=\"Temps\",\n",
    "        textposition=\"top center\",\n",
    "        showlegend=True,\n",
    "        hoverinfo=\"skip\"\n",
    "    ))\n",
    "\n",
    "    # Layout\n",
    "    fig.update_layout(\n",
    "        title=f\"Prévisions météo {day}\",\n",
    "        xaxis=dict(showticklabels=False),\n",
    "        yaxis_title=\"Température (°C)\",\n",
    "        hovermode=\"x unified\",\n",
    "        template=\"plotly_white\",\n",
    "        legend=dict(orientation=\"h\", yanchor=\"bottom\", y=1.02, xanchor=\"right\", x=1)\n",
    "    )\n",
    "\n",
    "    return fig\n",
    "\n",
    "\n",
    "# App Dash\n",
    "app = Dash(__name__)\n",
    "app.layout = html.Div([\n",
    "    html.H3(id='day-label', children=''),\n",
    "    dcc.Store(id=\"stored_day\"),\n",
    "    dcc.Graph(id=\"graph\", figure=create_weather_plot(df)),\n",
    "])\n",
    "\n",
    "\n",
    "\n",
    "@app.callback(\n",
    "    Output(\"graph\", \"figure\"),\n",
    "    Output(\"stored_day\", \"data\"),  # ← Mémoire du jour affiché\n",
    "    Input(\"graph\", \"clickData\"),\n",
    "    State(\"stored_day\", \"data\")\n",
    ")\n",
    "def update_on_click(clickData, stored_day):\n",
    "    if clickData is None:\n",
    "        return create_weather_plot(df, \"\"), None\n",
    "\n",
    "    clicked_dt = clickData[\"points\"][0][\"x\"]\n",
    "    clicked_day = pd.to_datetime(clicked_dt).date()\n",
    "\n",
    "    if stored_day == str(clicked_day):\n",
    "        # 👈 même jour → on réinitialise\n",
    "        return create_weather_plot(df, \"\"), None\n",
    "\n",
    "    # 👈 nouveau jour → on filtre\n",
    "    filtered_df = df[df[\"datetime\"].dt.date == clicked_day]\n",
    "    label = f\"- {clicked_day.strftime('%A %d %B')}\"\n",
    "\n",
    "    return create_weather_plot(filtered_df, label), str(clicked_day)\n",
    "\n",
    "\n",
    "\n"
   ]
  },
  {
   "cell_type": "code",
   "execution_count": 1,
   "id": "0eafe7a3",
   "metadata": {},
   "outputs": [
    {
     "name": "stderr",
     "output_type": "stream",
     "text": [
      "2025-09-24 02:36:19.080 Thread 'MainThread': missing ScriptRunContext! This warning can be ignored when running in bare mode.\n",
      "2025-09-24 02:36:19.081 Thread 'MainThread': missing ScriptRunContext! This warning can be ignored when running in bare mode.\n",
      "2025-09-24 02:36:19.082 Thread 'MainThread': missing ScriptRunContext! This warning can be ignored when running in bare mode.\n",
      "2025-09-24 02:36:19.287 \n",
      "  \u001b[33m\u001b[1mWarning:\u001b[0m to view this Streamlit app on a browser, run it with the following\n",
      "  command:\n",
      "\n",
      "    streamlit run c:\\Users\\cleme\\Documents\\Coding\\env3-12\\Lib\\site-packages\\ipykernel_launcher.py [ARGUMENTS]\n",
      "2025-09-24 02:36:19.287 Thread 'MainThread': missing ScriptRunContext! This warning can be ignored when running in bare mode.\n",
      "2025-09-24 02:36:19.295 Thread 'MainThread': missing ScriptRunContext! This warning can be ignored when running in bare mode.\n",
      "2025-09-24 02:36:19.295 Thread 'MainThread': missing ScriptRunContext! This warning can be ignored when running in bare mode.\n",
      "2025-09-24 02:36:19.295 Thread 'MainThread': missing ScriptRunContext! This warning can be ignored when running in bare mode.\n",
      "2025-09-24 02:36:19.295 Thread 'MainThread': missing ScriptRunContext! This warning can be ignored when running in bare mode.\n",
      "2025-09-24 02:36:19.297 Thread 'MainThread': missing ScriptRunContext! This warning can be ignored when running in bare mode.\n",
      "2025-09-24 02:36:19.298 Session state does not function when running a script without `streamlit run`\n",
      "2025-09-24 02:36:19.298 Thread 'MainThread': missing ScriptRunContext! This warning can be ignored when running in bare mode.\n",
      "2025-09-24 02:36:19.299 Thread 'MainThread': missing ScriptRunContext! This warning can be ignored when running in bare mode.\n",
      "2025-09-24 02:36:19.299 Thread 'MainThread': missing ScriptRunContext! This warning can be ignored when running in bare mode.\n",
      "2025-09-24 02:36:19.678 Thread 'MainThread': missing ScriptRunContext! This warning can be ignored when running in bare mode.\n",
      "2025-09-24 02:36:19.678 Thread 'MainThread': missing ScriptRunContext! This warning can be ignored when running in bare mode.\n",
      "2025-09-24 02:36:19.678 Thread 'MainThread': missing ScriptRunContext! This warning can be ignored when running in bare mode.\n",
      "2025-09-24 02:36:19.678 Thread 'MainThread': missing ScriptRunContext! This warning can be ignored when running in bare mode.\n",
      "2025-09-24 02:36:19.678 Thread 'MainThread': missing ScriptRunContext! This warning can be ignored when running in bare mode.\n"
     ]
    },
    {
     "data": {
      "application/vnd.plotly.v1+json": {
       "config": {
        "plotlyServerURL": "https://plot.ly"
       },
       "data": [
        {
         "customdata": [
          "🌧️",
          "🌧️",
          "🌧️",
          "🌧️",
          "🌧️",
          "🌧️",
          "☁️",
          "☁️",
          "☁️",
          "☁️",
          "☁️",
          "☁️",
          "☁️",
          "☁️",
          "☁️",
          "☁️",
          "☁️",
          "☁️",
          "🌧️",
          "☁️",
          "☁️",
          "☁️",
          "☁️",
          "☁️",
          "☁️",
          "🌧️",
          "🌧️",
          "☁️",
          "☁️",
          "☁️",
          "☀️",
          "☀️",
          "☀️",
          "☀️",
          "☁️",
          "☁️",
          "☁️",
          "☁️",
          "☀️",
          "☁️"
         ],
         "hovertemplate": "%{x|%A %Hh}<br>Temp: %{y:.1f}°C<br>%{customdata}",
         "mode": "markers+lines",
         "name": "Température",
         "type": "scatter",
         "x": [
          "2025-09-24T05:00:00.000000000",
          "2025-09-24T08:00:00.000000000",
          "2025-09-24T11:00:00.000000000",
          "2025-09-24T14:00:00.000000000",
          "2025-09-24T17:00:00.000000000",
          "2025-09-24T20:00:00.000000000",
          "2025-09-24T23:00:00.000000000",
          "2025-09-25T02:00:00.000000000",
          "2025-09-25T05:00:00.000000000",
          "2025-09-25T08:00:00.000000000",
          "2025-09-25T11:00:00.000000000",
          "2025-09-25T14:00:00.000000000",
          "2025-09-25T17:00:00.000000000",
          "2025-09-25T20:00:00.000000000",
          "2025-09-25T23:00:00.000000000",
          "2025-09-26T02:00:00.000000000",
          "2025-09-26T05:00:00.000000000",
          "2025-09-26T08:00:00.000000000",
          "2025-09-26T11:00:00.000000000",
          "2025-09-26T14:00:00.000000000",
          "2025-09-26T17:00:00.000000000",
          "2025-09-26T20:00:00.000000000",
          "2025-09-26T23:00:00.000000000",
          "2025-09-27T02:00:00.000000000",
          "2025-09-27T05:00:00.000000000",
          "2025-09-27T08:00:00.000000000",
          "2025-09-27T11:00:00.000000000",
          "2025-09-27T14:00:00.000000000",
          "2025-09-27T17:00:00.000000000",
          "2025-09-27T20:00:00.000000000",
          "2025-09-27T23:00:00.000000000",
          "2025-09-28T02:00:00.000000000",
          "2025-09-28T05:00:00.000000000",
          "2025-09-28T08:00:00.000000000",
          "2025-09-28T11:00:00.000000000",
          "2025-09-28T14:00:00.000000000",
          "2025-09-28T17:00:00.000000000",
          "2025-09-28T20:00:00.000000000",
          "2025-09-28T23:00:00.000000000",
          "2025-09-29T02:00:00.000000000"
         ],
         "y": {
          "bdata": "w/UoXI/CJUBcj8L1KNwkQEjhehSuRyZAPQrXo3C9J0D2KFyPwvUkQM3MzMzMTCVAPQrXo3A9JUBI4XoUrkclQHE9CtejcCVASOF6FK7HJECuR+F6FC4lQLgehetROChAZmZmZmZmKUBmZmZmZuYmQFK4HoXr0SVAj8L1KFyPJECF61G4HgUkQM3MzMzMzCNAUrgehetRJEAK16NwPYolQHE9CtejcClA9ihcj8L1KEBI4XoUrkcpQArXo3A9CihA9ihcj8L1J0DD9Shcj8InQEjhehSuRylAH4XrUbieKkDD9Shcj0IwQFK4HoXrUS5AUrgehevRKkCF61G4HoUoQHsUrkfheiZAhetRuB4FJUAAAAAAAIAsQArXo3A9yjJArkfhehQuNEAUrkfhehQyQFyPwvUoHDBAFK5H4XqULUA=",
          "dtype": "f8"
         }
        },
        {
         "line": {
          "color": "red",
          "dash": "dot",
          "width": 2
         },
         "mode": "lines",
         "name": "Température lissée",
         "type": "scatter",
         "x": [
          "2025-09-24T05:00:00+00:00",
          "2025-09-24T05:23:28.695652+00:00",
          "2025-09-24T05:46:57.391304+00:00",
          "2025-09-24T06:10:26.086957+00:00",
          "2025-09-24T06:33:54.782609+00:00",
          "2025-09-24T06:57:23.478261+00:00",
          "2025-09-24T07:20:52.173913+00:00",
          "2025-09-24T07:44:20.869565+00:00",
          "2025-09-24T08:07:49.565217+00:00",
          "2025-09-24T08:31:18.260870+00:00",
          "2025-09-24T08:54:46.956522+00:00",
          "2025-09-24T09:18:15.652174+00:00",
          "2025-09-24T09:41:44.347826+00:00",
          "2025-09-24T10:05:13.043478+00:00",
          "2025-09-24T10:28:41.739130+00:00",
          "2025-09-24T10:52:10.434783+00:00",
          "2025-09-24T11:15:39.130435+00:00",
          "2025-09-24T11:39:07.826087+00:00",
          "2025-09-24T12:02:36.521739+00:00",
          "2025-09-24T12:26:05.217391+00:00",
          "2025-09-24T12:49:33.913043+00:00",
          "2025-09-24T13:13:02.608696+00:00",
          "2025-09-24T13:36:31.304348+00:00",
          "2025-09-24T14:00:00+00:00",
          "2025-09-24T14:23:28.695652+00:00",
          "2025-09-24T14:46:57.391304+00:00",
          "2025-09-24T15:10:26.086957+00:00",
          "2025-09-24T15:33:54.782609+00:00",
          "2025-09-24T15:57:23.478261+00:00",
          "2025-09-24T16:20:52.173913+00:00",
          "2025-09-24T16:44:20.869565+00:00",
          "2025-09-24T17:07:49.565217+00:00",
          "2025-09-24T17:31:18.260870+00:00",
          "2025-09-24T17:54:46.956522+00:00",
          "2025-09-24T18:18:15.652174+00:00",
          "2025-09-24T18:41:44.347826+00:00",
          "2025-09-24T19:05:13.043478+00:00",
          "2025-09-24T19:28:41.739130+00:00",
          "2025-09-24T19:52:10.434783+00:00",
          "2025-09-24T20:15:39.130435+00:00",
          "2025-09-24T20:39:07.826087+00:00",
          "2025-09-24T21:02:36.521739+00:00",
          "2025-09-24T21:26:05.217391+00:00",
          "2025-09-24T21:49:33.913043+00:00",
          "2025-09-24T22:13:02.608696+00:00",
          "2025-09-24T22:36:31.304348+00:00",
          "2025-09-24T23:00:00+00:00",
          "2025-09-24T23:23:28.695652+00:00",
          "2025-09-24T23:46:57.391304+00:00",
          "2025-09-25T00:10:26.086957+00:00",
          "2025-09-25T00:33:54.782609+00:00",
          "2025-09-25T00:57:23.478261+00:00",
          "2025-09-25T01:20:52.173913+00:00",
          "2025-09-25T01:44:20.869565+00:00",
          "2025-09-25T02:07:49.565217+00:00",
          "2025-09-25T02:31:18.260870+00:00",
          "2025-09-25T02:54:46.956522+00:00",
          "2025-09-25T03:18:15.652174+00:00",
          "2025-09-25T03:41:44.347826+00:00",
          "2025-09-25T04:05:13.043478+00:00",
          "2025-09-25T04:28:41.739130+00:00",
          "2025-09-25T04:52:10.434783+00:00",
          "2025-09-25T05:15:39.130435+00:00",
          "2025-09-25T05:39:07.826087+00:00",
          "2025-09-25T06:02:36.521739+00:00",
          "2025-09-25T06:26:05.217391+00:00",
          "2025-09-25T06:49:33.913043+00:00",
          "2025-09-25T07:13:02.608696+00:00",
          "2025-09-25T07:36:31.304348+00:00",
          "2025-09-25T08:00:00+00:00",
          "2025-09-25T08:23:28.695652+00:00",
          "2025-09-25T08:46:57.391304+00:00",
          "2025-09-25T09:10:26.086957+00:00",
          "2025-09-25T09:33:54.782609+00:00",
          "2025-09-25T09:57:23.478261+00:00",
          "2025-09-25T10:20:52.173913+00:00",
          "2025-09-25T10:44:20.869565+00:00",
          "2025-09-25T11:07:49.565217+00:00",
          "2025-09-25T11:31:18.260870+00:00",
          "2025-09-25T11:54:46.956522+00:00",
          "2025-09-25T12:18:15.652174+00:00",
          "2025-09-25T12:41:44.347826+00:00",
          "2025-09-25T13:05:13.043478+00:00",
          "2025-09-25T13:28:41.739130+00:00",
          "2025-09-25T13:52:10.434783+00:00",
          "2025-09-25T14:15:39.130435+00:00",
          "2025-09-25T14:39:07.826087+00:00",
          "2025-09-25T15:02:36.521739+00:00",
          "2025-09-25T15:26:05.217391+00:00",
          "2025-09-25T15:49:33.913043+00:00",
          "2025-09-25T16:13:02.608696+00:00",
          "2025-09-25T16:36:31.304348+00:00",
          "2025-09-25T17:00:00+00:00",
          "2025-09-25T17:23:28.695652+00:00",
          "2025-09-25T17:46:57.391304+00:00",
          "2025-09-25T18:10:26.086957+00:00",
          "2025-09-25T18:33:54.782609+00:00",
          "2025-09-25T18:57:23.478261+00:00",
          "2025-09-25T19:20:52.173913+00:00",
          "2025-09-25T19:44:20.869565+00:00",
          "2025-09-25T20:07:49.565217+00:00",
          "2025-09-25T20:31:18.260870+00:00",
          "2025-09-25T20:54:46.956522+00:00",
          "2025-09-25T21:18:15.652174+00:00",
          "2025-09-25T21:41:44.347826+00:00",
          "2025-09-25T22:05:13.043478+00:00",
          "2025-09-25T22:28:41.739130+00:00",
          "2025-09-25T22:52:10.434783+00:00",
          "2025-09-25T23:15:39.130435+00:00",
          "2025-09-25T23:39:07.826087+00:00",
          "2025-09-26T00:02:36.521739+00:00",
          "2025-09-26T00:26:05.217391+00:00",
          "2025-09-26T00:49:33.913043+00:00",
          "2025-09-26T01:13:02.608696+00:00",
          "2025-09-26T01:36:31.304348+00:00",
          "2025-09-26T02:00:00+00:00",
          "2025-09-26T02:23:28.695652+00:00",
          "2025-09-26T02:46:57.391304+00:00",
          "2025-09-26T03:10:26.086957+00:00",
          "2025-09-26T03:33:54.782609+00:00",
          "2025-09-26T03:57:23.478261+00:00",
          "2025-09-26T04:20:52.173913+00:00",
          "2025-09-26T04:44:20.869565+00:00",
          "2025-09-26T05:07:49.565217+00:00",
          "2025-09-26T05:31:18.260870+00:00",
          "2025-09-26T05:54:46.956522+00:00",
          "2025-09-26T06:18:15.652174+00:00",
          "2025-09-26T06:41:44.347826+00:00",
          "2025-09-26T07:05:13.043478+00:00",
          "2025-09-26T07:28:41.739130+00:00",
          "2025-09-26T07:52:10.434783+00:00",
          "2025-09-26T08:15:39.130435+00:00",
          "2025-09-26T08:39:07.826087+00:00",
          "2025-09-26T09:02:36.521739+00:00",
          "2025-09-26T09:26:05.217391+00:00",
          "2025-09-26T09:49:33.913043+00:00",
          "2025-09-26T10:13:02.608696+00:00",
          "2025-09-26T10:36:31.304348+00:00",
          "2025-09-26T11:00:00+00:00",
          "2025-09-26T11:23:28.695652+00:00",
          "2025-09-26T11:46:57.391304+00:00",
          "2025-09-26T12:10:26.086957+00:00",
          "2025-09-26T12:33:54.782609+00:00",
          "2025-09-26T12:57:23.478261+00:00",
          "2025-09-26T13:20:52.173913+00:00",
          "2025-09-26T13:44:20.869565+00:00",
          "2025-09-26T14:07:49.565217+00:00",
          "2025-09-26T14:31:18.260870+00:00",
          "2025-09-26T14:54:46.956522+00:00",
          "2025-09-26T15:18:15.652174+00:00",
          "2025-09-26T15:41:44.347826+00:00",
          "2025-09-26T16:05:13.043478+00:00",
          "2025-09-26T16:28:41.739130+00:00",
          "2025-09-26T16:52:10.434783+00:00",
          "2025-09-26T17:15:39.130435+00:00",
          "2025-09-26T17:39:07.826087+00:00",
          "2025-09-26T18:02:36.521739+00:00",
          "2025-09-26T18:26:05.217391+00:00",
          "2025-09-26T18:49:33.913043+00:00",
          "2025-09-26T19:13:02.608696+00:00",
          "2025-09-26T19:36:31.304348+00:00",
          "2025-09-26T20:00:00+00:00",
          "2025-09-26T20:23:28.695652+00:00",
          "2025-09-26T20:46:57.391304+00:00",
          "2025-09-26T21:10:26.086957+00:00",
          "2025-09-26T21:33:54.782609+00:00",
          "2025-09-26T21:57:23.478261+00:00",
          "2025-09-26T22:20:52.173913+00:00",
          "2025-09-26T22:44:20.869565+00:00",
          "2025-09-26T23:07:49.565217+00:00",
          "2025-09-26T23:31:18.260870+00:00",
          "2025-09-26T23:54:46.956522+00:00",
          "2025-09-27T00:18:15.652174+00:00",
          "2025-09-27T00:41:44.347826+00:00",
          "2025-09-27T01:05:13.043478+00:00",
          "2025-09-27T01:28:41.739130+00:00",
          "2025-09-27T01:52:10.434783+00:00",
          "2025-09-27T02:15:39.130435+00:00",
          "2025-09-27T02:39:07.826087+00:00",
          "2025-09-27T03:02:36.521739+00:00",
          "2025-09-27T03:26:05.217391+00:00",
          "2025-09-27T03:49:33.913043+00:00",
          "2025-09-27T04:13:02.608696+00:00",
          "2025-09-27T04:36:31.304348+00:00",
          "2025-09-27T05:00:00+00:00",
          "2025-09-27T05:23:28.695652+00:00",
          "2025-09-27T05:46:57.391304+00:00",
          "2025-09-27T06:10:26.086957+00:00",
          "2025-09-27T06:33:54.782609+00:00",
          "2025-09-27T06:57:23.478261+00:00",
          "2025-09-27T07:20:52.173913+00:00",
          "2025-09-27T07:44:20.869565+00:00",
          "2025-09-27T08:07:49.565217+00:00",
          "2025-09-27T08:31:18.260870+00:00",
          "2025-09-27T08:54:46.956522+00:00",
          "2025-09-27T09:18:15.652174+00:00",
          "2025-09-27T09:41:44.347826+00:00",
          "2025-09-27T10:05:13.043478+00:00",
          "2025-09-27T10:28:41.739130+00:00",
          "2025-09-27T10:52:10.434783+00:00",
          "2025-09-27T11:15:39.130435+00:00",
          "2025-09-27T11:39:07.826087+00:00",
          "2025-09-27T12:02:36.521739+00:00",
          "2025-09-27T12:26:05.217391+00:00",
          "2025-09-27T12:49:33.913043+00:00",
          "2025-09-27T13:13:02.608696+00:00",
          "2025-09-27T13:36:31.304348+00:00",
          "2025-09-27T14:00:00+00:00",
          "2025-09-27T14:23:28.695652+00:00",
          "2025-09-27T14:46:57.391304+00:00",
          "2025-09-27T15:10:26.086957+00:00",
          "2025-09-27T15:33:54.782609+00:00",
          "2025-09-27T15:57:23.478261+00:00",
          "2025-09-27T16:20:52.173913+00:00",
          "2025-09-27T16:44:20.869565+00:00",
          "2025-09-27T17:07:49.565217+00:00",
          "2025-09-27T17:31:18.260870+00:00",
          "2025-09-27T17:54:46.956522+00:00",
          "2025-09-27T18:18:15.652174+00:00",
          "2025-09-27T18:41:44.347826+00:00",
          "2025-09-27T19:05:13.043478+00:00",
          "2025-09-27T19:28:41.739130+00:00",
          "2025-09-27T19:52:10.434783+00:00",
          "2025-09-27T20:15:39.130435+00:00",
          "2025-09-27T20:39:07.826087+00:00",
          "2025-09-27T21:02:36.521739+00:00",
          "2025-09-27T21:26:05.217391+00:00",
          "2025-09-27T21:49:33.913043+00:00",
          "2025-09-27T22:13:02.608696+00:00",
          "2025-09-27T22:36:31.304348+00:00",
          "2025-09-27T23:00:00+00:00",
          "2025-09-27T23:23:28.695652+00:00",
          "2025-09-27T23:46:57.391304+00:00",
          "2025-09-28T00:10:26.086957+00:00",
          "2025-09-28T00:33:54.782609+00:00",
          "2025-09-28T00:57:23.478261+00:00",
          "2025-09-28T01:20:52.173913+00:00",
          "2025-09-28T01:44:20.869565+00:00",
          "2025-09-28T02:07:49.565217+00:00",
          "2025-09-28T02:31:18.260870+00:00",
          "2025-09-28T02:54:46.956522+00:00",
          "2025-09-28T03:18:15.652174+00:00",
          "2025-09-28T03:41:44.347826+00:00",
          "2025-09-28T04:05:13.043478+00:00",
          "2025-09-28T04:28:41.739130+00:00",
          "2025-09-28T04:52:10.434783+00:00",
          "2025-09-28T05:15:39.130435+00:00",
          "2025-09-28T05:39:07.826087+00:00",
          "2025-09-28T06:02:36.521739+00:00",
          "2025-09-28T06:26:05.217391+00:00",
          "2025-09-28T06:49:33.913043+00:00",
          "2025-09-28T07:13:02.608696+00:00",
          "2025-09-28T07:36:31.304348+00:00",
          "2025-09-28T08:00:00+00:00",
          "2025-09-28T08:23:28.695652+00:00",
          "2025-09-28T08:46:57.391304+00:00",
          "2025-09-28T09:10:26.086957+00:00",
          "2025-09-28T09:33:54.782609+00:00",
          "2025-09-28T09:57:23.478261+00:00",
          "2025-09-28T10:20:52.173913+00:00",
          "2025-09-28T10:44:20.869565+00:00",
          "2025-09-28T11:07:49.565217+00:00",
          "2025-09-28T11:31:18.260870+00:00",
          "2025-09-28T11:54:46.956522+00:00",
          "2025-09-28T12:18:15.652174+00:00",
          "2025-09-28T12:41:44.347826+00:00",
          "2025-09-28T13:05:13.043478+00:00",
          "2025-09-28T13:28:41.739130+00:00",
          "2025-09-28T13:52:10.434783+00:00",
          "2025-09-28T14:15:39.130435+00:00",
          "2025-09-28T14:39:07.826087+00:00",
          "2025-09-28T15:02:36.521739+00:00",
          "2025-09-28T15:26:05.217391+00:00",
          "2025-09-28T15:49:33.913043+00:00",
          "2025-09-28T16:13:02.608696+00:00",
          "2025-09-28T16:36:31.304348+00:00",
          "2025-09-28T17:00:00+00:00",
          "2025-09-28T17:23:28.695652+00:00",
          "2025-09-28T17:46:57.391304+00:00",
          "2025-09-28T18:10:26.086957+00:00",
          "2025-09-28T18:33:54.782609+00:00",
          "2025-09-28T18:57:23.478261+00:00",
          "2025-09-28T19:20:52.173913+00:00",
          "2025-09-28T19:44:20.869565+00:00",
          "2025-09-28T20:07:49.565217+00:00",
          "2025-09-28T20:31:18.260870+00:00",
          "2025-09-28T20:54:46.956522+00:00",
          "2025-09-28T21:18:15.652174+00:00",
          "2025-09-28T21:41:44.347826+00:00",
          "2025-09-28T22:05:13.043478+00:00",
          "2025-09-28T22:28:41.739130+00:00",
          "2025-09-28T22:52:10.434783+00:00",
          "2025-09-28T23:15:39.130435+00:00",
          "2025-09-28T23:39:07.826087+00:00",
          "2025-09-29T00:02:36.521739+00:00",
          "2025-09-29T00:26:05.217391+00:00",
          "2025-09-29T00:49:33.913043+00:00",
          "2025-09-29T01:13:02.608696+00:00",
          "2025-09-29T01:36:31.304348+00:00",
          "2025-09-29T02:00:00+00:00"
         ],
         "y": {
          "bdata": "w/UoXI/CJUAui915sHwlQOQNFPt9QyVAIvyJOpUWJUA9Vf2Sk/UkQOf1K18W4CRASpDT+brVJEBYCbK9HtYkQD4yhQXf4CRAj8kKLJn1JEDYvgCM6hMlQMjXJIBwOyVATL80Y8hrJUAWje6Pj6QlQFbyD2Fj5SVA1YhWMeEtJkAQippWYX0mQJnBwc0Z0CZA5B/17jogJ0B4pcBx7GcnQEbusA1WoSdAlPJRep/GJ0Av5S9v8NEnQD0K16NwvSdAeEG8tMiFJ0D/yffRpDEnQLnfiRAyyiZATnJzhZ1YJkDrjrVFFOYlQDpFUGbDeyVACKVE/NciJUA0dTZ9Z+QkQHkuAAX+wyRApi23ypK8JEB1eIkKYMgkQMfcpACg4SRAgmY36YwCJUAs624AYSUlQMk6eYJWRCVA0dGr3QhaJUDAA2ZnfWUlQBPPLm2SaCVAyiPSYjJlJUCL5xu8R10lQFgG2Oy8UiVA23PSaHxHJUA/CtejcD0lQADoeF4qNiVASNBnjNMxJUCOqBpuPDAlQK9gCEQ1MSVAGOGnTo40JUBpGnDOFzolQL321wOiQSVA/EQmvftKJUDkD1sFnVUlQAMK/Gt3YCVAkOgN73BqJUBRY5WMb3IlQDBDl0JZdyVAFz4YDxR4JUAjFh3whXMlQNa5jl+0aCVAmymT1xJYJUAFCYDzAEMlQPCUJz7iKiVAFNRbQhoRJUCcAe+KDPckQINZs6Ic3iRASeF6FK7HJEC55fOLPLUkQJLlPDikqCRAB1VQadmjJEBOxyhv0KgkQDyzwJl9uSRAkrcSOdXXJEBkVBmdywUlQLAEj/VLRSVAsw0r4x2WJUCk2GBPuPQlQIi9oiFJXSZAZ/diQf7LJkBfthSWBT0nQIo4KgeNrCdAaMAVfMIWKEBJp9y/6ncoQE3GBrNUzShAda3k4PoUKUBMEDmx2kwpQEwXx4vxcilA0mlR2DyFKUDT6Jr+uYEpQGdmZmZmZilA1GwLoIYyKUAArjTee+ooQDjvIHzukyhAr48P1YY0KEBYCEBE7dEnQN738CTKcSdA9dZh0sUZJ0BBp6aZes8mQORgtHU3lSZANjLPOzBoJkA3T+JPKEUmQNzO2BXjKCZAEo6d8SMQJkCFpxtHrvclQA81PnpF3CVAreIZD+26JUC0j6n/kZMlQHGTITcCaCVAxKC7pBM6JUDuBLE3nAslQMJxO99x3iRAV5WUimq0JECPwvUoXI8kQBG9eAqicCRAcYO3Aq1XJEDy8itGc0MkQJ0gUAnrMiRAvRaegAolJECrwo/gxxgkQEcwn10ZDSRAeOE0UvgAJEDQnJ/8GvQjQD3n0mJc5yNA1Wk2urDbI0CTyjE4DNIjQNKaLBJjyyNAXIKOfanII0CPHb+v08ojQP2pEcu40iNAf0wM9N3fI0BWMxxA7vAjQCzxSyKRBCRA+0SmDW4ZJEDSwjV1LC4kQCH/BMxzQSRAUrgehetRJEBNmOSuK18kQAepFMWObCRALifE3l9+JEBnNQgT6pgkQP/c9Xh4wCRAqoCiJ1b5JEC5NCM2zkclQNEWGpoWsCVAi5UxcnExJkBcMkm2c8MmQCDoplIJXSdAtJuQMx71J0BUgE1FnoIoQHV2I3R1/ChAtpdYrI9ZKUAoBDwzsJEpQC4OHLlhpilAQFQFCn6fKUD0lSXd+YQpQBRPqunJXilA1zPB5uI0KUBKA5iLOQ8pQPYoXI/C9ShAIvsYFUbuKEBt7U/v2fUoQJccYFxnBylAm5aomtcdKUBCW4joEzQpQJKcXoQFRSlAW1iKrJVLKUCbNg6MvEIpQKXjRMTxKClAanb37RgCKUBcBAwHjdIoQEO8aA2pnihAjljz/sdqKEBqBpLZRDsoQFnmKpt6FChAkIOsfWb6J0ASXuu0w+wnQMRg/TaO6CdA8Ip5QbbqJ0AS5PYRLPAnQPZuDObf9SdAwi1R+8H4J0D2KFyPwvUnQMSRnAXr6idAznLiWKnaJ0A74tWphMgnQEAaHxkEuCdATlBmx66sJ0CyoVPVC6onQOtIj2OisydA0dmpcuzMJ0ByNqt9UPYnQKT7B1dwKyhASo930IRnKEAOQ7G7xqUoQOfybOpu4ShAVPBhLrYVKUBOokdZ1T0pQAzLK8m0VSlAWt+DmzVhKUBgrkqKXWkpQOa5BUFIdylA7KA6axGUKUC/7G601MgpQPjgJ8itHipAIIXrUbieKkBOa3Mk9k0rQMmASa8BISxA3cQtiVsILUBTbN5IhPQtQAeeGYX81S5AMG6f1ESdL0Ag+xbnbh0wQOv6KfO3TzBAEKMvx31iMEBFSRZm/lkwQEQCDEoXOzBA7yM/7aUKMEC5JLuTD5svQOAwK7Q0ES9AjC8rMHaBLkD3utvfEPUtQIbIMZOHby1AxAZoRqvwLEALHDIyPXgsQI+qQo/+BSxAP11NlrCZK0DQzQWAFDMrQFK4HoXr0SpAifvXmvd1KkAWa6Ko/R4qQOFfelLDzClAGPJcPA5/KUDLLEcKpDUpQI18NWBK8ChAfO8k4sauKEBERDZU3HAoQJKn9AKhNShA++L15x/7J0Abfe/9TL8nQGcAlz8cgCdADW2hp4E7J0BKSsQwce8mQBY1tdXemSZAbOc7oFA5JkAhAVyJ7tIlQMFTJvsncCVAg0OOoX4aJUAze4YodNskQAlsAjyKvCRA2Sn1h0LHJECF61G4HgUlQMWx3o/LfCVAaxKsLKIpJkBr/Z7DJgQnQKv3mondBChADxeDs0okKUAW8jx28loqQEKyqwZZoStAsCXSKwfwLEC1LO7rl0AuQEYqd2JPji9AHEjsHUtqMEAD8z6SagcxQOGuamQ6nDFAPTql6m4mMkB2ciR7vKMyQHCjWJ7tETNANwuM5M5vM0A7obdW07wzQDBkG8Rw+DNAts73+xwiNECp0ozNTTk0QKaXGgh5PTRArkfhehQuNEAQNfqcOQs0QOvJ44SQ1zNAIjH18GSWM0CLAoafAkszQK3z7U61+DJA3QKEvciiMkDS4Z+piEwyQClRBCE7+TFAD1KZztCqMUDspT83KWExQJYAM1v2GzFA6QivOuraMECK2e7Vtp0wQDscLi0OZDBAeHCoQKItMECsADIhSvQvQBjbdjqRki9AQWKWzX01L0CRxwfbc9wuQP97QWPXhi5At7O6Zgw0LkCnmurlduMtQBSuR+F6lC1A",
          "dtype": "f8"
         }
        },
        {
         "hoverinfo": "skip",
         "mode": "text",
         "name": "Temps",
         "showlegend": true,
         "text": [
          "🌧️",
          "🌧️",
          "🌧️",
          "🌧️",
          "🌧️",
          "🌧️",
          "☁️",
          "☁️",
          "☁️",
          "☁️",
          "☁️",
          "☁️",
          "☁️",
          "☁️",
          "☁️",
          "☁️",
          "☁️",
          "☁️",
          "🌧️",
          "☁️",
          "☁️",
          "☁️",
          "☁️",
          "☁️",
          "☁️",
          "🌧️",
          "🌧️",
          "☁️",
          "☁️",
          "☁️",
          "☀️",
          "☀️",
          "☀️",
          "☀️",
          "☁️",
          "☁️",
          "☁️",
          "☁️",
          "☀️",
          "☁️"
         ],
         "textposition": "top center",
         "type": "scatter",
         "x": [
          "2025-09-24T05:00:00.000000000",
          "2025-09-24T08:00:00.000000000",
          "2025-09-24T11:00:00.000000000",
          "2025-09-24T14:00:00.000000000",
          "2025-09-24T17:00:00.000000000",
          "2025-09-24T20:00:00.000000000",
          "2025-09-24T23:00:00.000000000",
          "2025-09-25T02:00:00.000000000",
          "2025-09-25T05:00:00.000000000",
          "2025-09-25T08:00:00.000000000",
          "2025-09-25T11:00:00.000000000",
          "2025-09-25T14:00:00.000000000",
          "2025-09-25T17:00:00.000000000",
          "2025-09-25T20:00:00.000000000",
          "2025-09-25T23:00:00.000000000",
          "2025-09-26T02:00:00.000000000",
          "2025-09-26T05:00:00.000000000",
          "2025-09-26T08:00:00.000000000",
          "2025-09-26T11:00:00.000000000",
          "2025-09-26T14:00:00.000000000",
          "2025-09-26T17:00:00.000000000",
          "2025-09-26T20:00:00.000000000",
          "2025-09-26T23:00:00.000000000",
          "2025-09-27T02:00:00.000000000",
          "2025-09-27T05:00:00.000000000",
          "2025-09-27T08:00:00.000000000",
          "2025-09-27T11:00:00.000000000",
          "2025-09-27T14:00:00.000000000",
          "2025-09-27T17:00:00.000000000",
          "2025-09-27T20:00:00.000000000",
          "2025-09-27T23:00:00.000000000",
          "2025-09-28T02:00:00.000000000",
          "2025-09-28T05:00:00.000000000",
          "2025-09-28T08:00:00.000000000",
          "2025-09-28T11:00:00.000000000",
          "2025-09-28T14:00:00.000000000",
          "2025-09-28T17:00:00.000000000",
          "2025-09-28T20:00:00.000000000",
          "2025-09-28T23:00:00.000000000",
          "2025-09-29T02:00:00.000000000"
         ],
         "y": {
          "bdata": "w/UoXI/CJUBcj8L1KNwkQEjhehSuRyZAPQrXo3C9J0D2KFyPwvUkQM3MzMzMTCVAPQrXo3A9JUBI4XoUrkclQHE9CtejcCVASOF6FK7HJECuR+F6FC4lQLgehetROChAZmZmZmZmKUBmZmZmZuYmQFK4HoXr0SVAj8L1KFyPJECF61G4HgUkQM3MzMzMzCNAUrgehetRJEAK16NwPYolQHE9CtejcClA9ihcj8L1KEBI4XoUrkcpQArXo3A9CihA9ihcj8L1J0DD9Shcj8InQEjhehSuRylAH4XrUbieKkDD9Shcj0IwQFK4HoXrUS5AUrgehevRKkCF61G4HoUoQHsUrkfheiZAhetRuB4FJUAAAAAAAIAsQArXo3A9yjJArkfhehQuNEAUrkfhehQyQFyPwvUoHDBAFK5H4XqULUA=",
          "dtype": "f8"
         }
        }
       ],
       "layout": {
        "annotations": [
         {
          "font": {
           "color": "black",
           "size": 12
          },
          "showarrow": false,
          "text": "Wednesday 24",
          "x": "2025-09-24T15:30:00+00:00",
          "y": 20.18,
          "yshift": 20
         },
         {
          "font": {
           "color": "black",
           "size": 12
          },
          "showarrow": false,
          "text": "Thursday 25",
          "x": "2025-09-25T14:00:00+00:00",
          "y": 20.18,
          "yshift": 20
         },
         {
          "font": {
           "color": "black",
           "size": 12
          },
          "showarrow": false,
          "text": "Friday 26",
          "x": "2025-09-26T14:00:00+00:00",
          "y": 20.18,
          "yshift": 20
         },
         {
          "font": {
           "color": "black",
           "size": 12
          },
          "showarrow": false,
          "text": "Saturday 27",
          "x": "2025-09-27T14:00:00+00:00",
          "y": 20.18,
          "yshift": 20
         },
         {
          "font": {
           "color": "black",
           "size": 12
          },
          "showarrow": false,
          "text": "Sunday 28",
          "x": "2025-09-28T14:00:00+00:00",
          "y": 20.18,
          "yshift": 20
         },
         {
          "font": {
           "color": "black",
           "size": 12
          },
          "showarrow": false,
          "text": "Monday 29",
          "x": "2025-09-29T14:00:00+00:00",
          "y": 20.18,
          "yshift": 20
         }
        ],
        "hovermode": "x unified",
        "legend": {
         "orientation": "h",
         "x": 1,
         "xanchor": "right",
         "y": 1.02,
         "yanchor": "bottom"
        },
        "shapes": [
         {
          "fillcolor": "lightgray",
          "layer": "below",
          "line": {
           "width": 0
          },
          "opacity": 0.2,
          "type": "rect",
          "x0": "2025-09-24T20:00:00+00:00",
          "x1": "2025-09-25T06:00:00+00:00",
          "xref": "x",
          "y0": 0,
          "y1": 1,
          "yref": "y domain"
         },
         {
          "fillcolor": "lightgray",
          "layer": "below",
          "line": {
           "width": 0
          },
          "opacity": 0.2,
          "type": "rect",
          "x0": "2025-09-25T20:00:00+00:00",
          "x1": "2025-09-26T06:00:00+00:00",
          "xref": "x",
          "y0": 0,
          "y1": 1,
          "yref": "y domain"
         },
         {
          "fillcolor": "lightgray",
          "layer": "below",
          "line": {
           "width": 0
          },
          "opacity": 0.2,
          "type": "rect",
          "x0": "2025-09-26T20:00:00+00:00",
          "x1": "2025-09-27T06:00:00+00:00",
          "xref": "x",
          "y0": 0,
          "y1": 1,
          "yref": "y domain"
         },
         {
          "fillcolor": "lightgray",
          "layer": "below",
          "line": {
           "width": 0
          },
          "opacity": 0.2,
          "type": "rect",
          "x0": "2025-09-27T20:00:00+00:00",
          "x1": "2025-09-28T06:00:00+00:00",
          "xref": "x",
          "y0": 0,
          "y1": 1,
          "yref": "y domain"
         },
         {
          "fillcolor": "lightgray",
          "layer": "below",
          "line": {
           "width": 0
          },
          "opacity": 0.2,
          "type": "rect",
          "x0": "2025-09-28T20:00:00+00:00",
          "x1": "2025-09-29T06:00:00+00:00",
          "xref": "x",
          "y0": 0,
          "y1": 1,
          "yref": "y domain"
         }
        ],
        "template": {
         "data": {
          "bar": [
           {
            "error_x": {
             "color": "#2a3f5f"
            },
            "error_y": {
             "color": "#2a3f5f"
            },
            "marker": {
             "line": {
              "color": "white",
              "width": 0.5
             },
             "pattern": {
              "fillmode": "overlay",
              "size": 10,
              "solidity": 0.2
             }
            },
            "type": "bar"
           }
          ],
          "barpolar": [
           {
            "marker": {
             "line": {
              "color": "white",
              "width": 0.5
             },
             "pattern": {
              "fillmode": "overlay",
              "size": 10,
              "solidity": 0.2
             }
            },
            "type": "barpolar"
           }
          ],
          "carpet": [
           {
            "aaxis": {
             "endlinecolor": "#2a3f5f",
             "gridcolor": "#C8D4E3",
             "linecolor": "#C8D4E3",
             "minorgridcolor": "#C8D4E3",
             "startlinecolor": "#2a3f5f"
            },
            "baxis": {
             "endlinecolor": "#2a3f5f",
             "gridcolor": "#C8D4E3",
             "linecolor": "#C8D4E3",
             "minorgridcolor": "#C8D4E3",
             "startlinecolor": "#2a3f5f"
            },
            "type": "carpet"
           }
          ],
          "choropleth": [
           {
            "colorbar": {
             "outlinewidth": 0,
             "ticks": ""
            },
            "type": "choropleth"
           }
          ],
          "contour": [
           {
            "colorbar": {
             "outlinewidth": 0,
             "ticks": ""
            },
            "colorscale": [
             [
              0,
              "#0d0887"
             ],
             [
              0.1111111111111111,
              "#46039f"
             ],
             [
              0.2222222222222222,
              "#7201a8"
             ],
             [
              0.3333333333333333,
              "#9c179e"
             ],
             [
              0.4444444444444444,
              "#bd3786"
             ],
             [
              0.5555555555555556,
              "#d8576b"
             ],
             [
              0.6666666666666666,
              "#ed7953"
             ],
             [
              0.7777777777777778,
              "#fb9f3a"
             ],
             [
              0.8888888888888888,
              "#fdca26"
             ],
             [
              1,
              "#f0f921"
             ]
            ],
            "type": "contour"
           }
          ],
          "contourcarpet": [
           {
            "colorbar": {
             "outlinewidth": 0,
             "ticks": ""
            },
            "type": "contourcarpet"
           }
          ],
          "heatmap": [
           {
            "colorbar": {
             "outlinewidth": 0,
             "ticks": ""
            },
            "colorscale": [
             [
              0,
              "#0d0887"
             ],
             [
              0.1111111111111111,
              "#46039f"
             ],
             [
              0.2222222222222222,
              "#7201a8"
             ],
             [
              0.3333333333333333,
              "#9c179e"
             ],
             [
              0.4444444444444444,
              "#bd3786"
             ],
             [
              0.5555555555555556,
              "#d8576b"
             ],
             [
              0.6666666666666666,
              "#ed7953"
             ],
             [
              0.7777777777777778,
              "#fb9f3a"
             ],
             [
              0.8888888888888888,
              "#fdca26"
             ],
             [
              1,
              "#f0f921"
             ]
            ],
            "type": "heatmap"
           }
          ],
          "histogram": [
           {
            "marker": {
             "pattern": {
              "fillmode": "overlay",
              "size": 10,
              "solidity": 0.2
             }
            },
            "type": "histogram"
           }
          ],
          "histogram2d": [
           {
            "colorbar": {
             "outlinewidth": 0,
             "ticks": ""
            },
            "colorscale": [
             [
              0,
              "#0d0887"
             ],
             [
              0.1111111111111111,
              "#46039f"
             ],
             [
              0.2222222222222222,
              "#7201a8"
             ],
             [
              0.3333333333333333,
              "#9c179e"
             ],
             [
              0.4444444444444444,
              "#bd3786"
             ],
             [
              0.5555555555555556,
              "#d8576b"
             ],
             [
              0.6666666666666666,
              "#ed7953"
             ],
             [
              0.7777777777777778,
              "#fb9f3a"
             ],
             [
              0.8888888888888888,
              "#fdca26"
             ],
             [
              1,
              "#f0f921"
             ]
            ],
            "type": "histogram2d"
           }
          ],
          "histogram2dcontour": [
           {
            "colorbar": {
             "outlinewidth": 0,
             "ticks": ""
            },
            "colorscale": [
             [
              0,
              "#0d0887"
             ],
             [
              0.1111111111111111,
              "#46039f"
             ],
             [
              0.2222222222222222,
              "#7201a8"
             ],
             [
              0.3333333333333333,
              "#9c179e"
             ],
             [
              0.4444444444444444,
              "#bd3786"
             ],
             [
              0.5555555555555556,
              "#d8576b"
             ],
             [
              0.6666666666666666,
              "#ed7953"
             ],
             [
              0.7777777777777778,
              "#fb9f3a"
             ],
             [
              0.8888888888888888,
              "#fdca26"
             ],
             [
              1,
              "#f0f921"
             ]
            ],
            "type": "histogram2dcontour"
           }
          ],
          "mesh3d": [
           {
            "colorbar": {
             "outlinewidth": 0,
             "ticks": ""
            },
            "type": "mesh3d"
           }
          ],
          "parcoords": [
           {
            "line": {
             "colorbar": {
              "outlinewidth": 0,
              "ticks": ""
             }
            },
            "type": "parcoords"
           }
          ],
          "pie": [
           {
            "automargin": true,
            "type": "pie"
           }
          ],
          "scatter": [
           {
            "fillpattern": {
             "fillmode": "overlay",
             "size": 10,
             "solidity": 0.2
            },
            "type": "scatter"
           }
          ],
          "scatter3d": [
           {
            "line": {
             "colorbar": {
              "outlinewidth": 0,
              "ticks": ""
             }
            },
            "marker": {
             "colorbar": {
              "outlinewidth": 0,
              "ticks": ""
             }
            },
            "type": "scatter3d"
           }
          ],
          "scattercarpet": [
           {
            "marker": {
             "colorbar": {
              "outlinewidth": 0,
              "ticks": ""
             }
            },
            "type": "scattercarpet"
           }
          ],
          "scattergeo": [
           {
            "marker": {
             "colorbar": {
              "outlinewidth": 0,
              "ticks": ""
             }
            },
            "type": "scattergeo"
           }
          ],
          "scattergl": [
           {
            "marker": {
             "colorbar": {
              "outlinewidth": 0,
              "ticks": ""
             }
            },
            "type": "scattergl"
           }
          ],
          "scattermap": [
           {
            "marker": {
             "colorbar": {
              "outlinewidth": 0,
              "ticks": ""
             }
            },
            "type": "scattermap"
           }
          ],
          "scattermapbox": [
           {
            "marker": {
             "colorbar": {
              "outlinewidth": 0,
              "ticks": ""
             }
            },
            "type": "scattermapbox"
           }
          ],
          "scatterpolar": [
           {
            "marker": {
             "colorbar": {
              "outlinewidth": 0,
              "ticks": ""
             }
            },
            "type": "scatterpolar"
           }
          ],
          "scatterpolargl": [
           {
            "marker": {
             "colorbar": {
              "outlinewidth": 0,
              "ticks": ""
             }
            },
            "type": "scatterpolargl"
           }
          ],
          "scatterternary": [
           {
            "marker": {
             "colorbar": {
              "outlinewidth": 0,
              "ticks": ""
             }
            },
            "type": "scatterternary"
           }
          ],
          "surface": [
           {
            "colorbar": {
             "outlinewidth": 0,
             "ticks": ""
            },
            "colorscale": [
             [
              0,
              "#0d0887"
             ],
             [
              0.1111111111111111,
              "#46039f"
             ],
             [
              0.2222222222222222,
              "#7201a8"
             ],
             [
              0.3333333333333333,
              "#9c179e"
             ],
             [
              0.4444444444444444,
              "#bd3786"
             ],
             [
              0.5555555555555556,
              "#d8576b"
             ],
             [
              0.6666666666666666,
              "#ed7953"
             ],
             [
              0.7777777777777778,
              "#fb9f3a"
             ],
             [
              0.8888888888888888,
              "#fdca26"
             ],
             [
              1,
              "#f0f921"
             ]
            ],
            "type": "surface"
           }
          ],
          "table": [
           {
            "cells": {
             "fill": {
              "color": "#EBF0F8"
             },
             "line": {
              "color": "white"
             }
            },
            "header": {
             "fill": {
              "color": "#C8D4E3"
             },
             "line": {
              "color": "white"
             }
            },
            "type": "table"
           }
          ]
         },
         "layout": {
          "annotationdefaults": {
           "arrowcolor": "#2a3f5f",
           "arrowhead": 0,
           "arrowwidth": 1
          },
          "autotypenumbers": "strict",
          "coloraxis": {
           "colorbar": {
            "outlinewidth": 0,
            "ticks": ""
           }
          },
          "colorscale": {
           "diverging": [
            [
             0,
             "#8e0152"
            ],
            [
             0.1,
             "#c51b7d"
            ],
            [
             0.2,
             "#de77ae"
            ],
            [
             0.3,
             "#f1b6da"
            ],
            [
             0.4,
             "#fde0ef"
            ],
            [
             0.5,
             "#f7f7f7"
            ],
            [
             0.6,
             "#e6f5d0"
            ],
            [
             0.7,
             "#b8e186"
            ],
            [
             0.8,
             "#7fbc41"
            ],
            [
             0.9,
             "#4d9221"
            ],
            [
             1,
             "#276419"
            ]
           ],
           "sequential": [
            [
             0,
             "#0d0887"
            ],
            [
             0.1111111111111111,
             "#46039f"
            ],
            [
             0.2222222222222222,
             "#7201a8"
            ],
            [
             0.3333333333333333,
             "#9c179e"
            ],
            [
             0.4444444444444444,
             "#bd3786"
            ],
            [
             0.5555555555555556,
             "#d8576b"
            ],
            [
             0.6666666666666666,
             "#ed7953"
            ],
            [
             0.7777777777777778,
             "#fb9f3a"
            ],
            [
             0.8888888888888888,
             "#fdca26"
            ],
            [
             1,
             "#f0f921"
            ]
           ],
           "sequentialminus": [
            [
             0,
             "#0d0887"
            ],
            [
             0.1111111111111111,
             "#46039f"
            ],
            [
             0.2222222222222222,
             "#7201a8"
            ],
            [
             0.3333333333333333,
             "#9c179e"
            ],
            [
             0.4444444444444444,
             "#bd3786"
            ],
            [
             0.5555555555555556,
             "#d8576b"
            ],
            [
             0.6666666666666666,
             "#ed7953"
            ],
            [
             0.7777777777777778,
             "#fb9f3a"
            ],
            [
             0.8888888888888888,
             "#fdca26"
            ],
            [
             1,
             "#f0f921"
            ]
           ]
          },
          "colorway": [
           "#636efa",
           "#EF553B",
           "#00cc96",
           "#ab63fa",
           "#FFA15A",
           "#19d3f3",
           "#FF6692",
           "#B6E880",
           "#FF97FF",
           "#FECB52"
          ],
          "font": {
           "color": "#2a3f5f"
          },
          "geo": {
           "bgcolor": "white",
           "lakecolor": "white",
           "landcolor": "white",
           "showlakes": true,
           "showland": true,
           "subunitcolor": "#C8D4E3"
          },
          "hoverlabel": {
           "align": "left"
          },
          "hovermode": "closest",
          "mapbox": {
           "style": "light"
          },
          "paper_bgcolor": "white",
          "plot_bgcolor": "white",
          "polar": {
           "angularaxis": {
            "gridcolor": "#EBF0F8",
            "linecolor": "#EBF0F8",
            "ticks": ""
           },
           "bgcolor": "white",
           "radialaxis": {
            "gridcolor": "#EBF0F8",
            "linecolor": "#EBF0F8",
            "ticks": ""
           }
          },
          "scene": {
           "xaxis": {
            "backgroundcolor": "white",
            "gridcolor": "#DFE8F3",
            "gridwidth": 2,
            "linecolor": "#EBF0F8",
            "showbackground": true,
            "ticks": "",
            "zerolinecolor": "#EBF0F8"
           },
           "yaxis": {
            "backgroundcolor": "white",
            "gridcolor": "#DFE8F3",
            "gridwidth": 2,
            "linecolor": "#EBF0F8",
            "showbackground": true,
            "ticks": "",
            "zerolinecolor": "#EBF0F8"
           },
           "zaxis": {
            "backgroundcolor": "white",
            "gridcolor": "#DFE8F3",
            "gridwidth": 2,
            "linecolor": "#EBF0F8",
            "showbackground": true,
            "ticks": "",
            "zerolinecolor": "#EBF0F8"
           }
          },
          "shapedefaults": {
           "line": {
            "color": "#2a3f5f"
           }
          },
          "ternary": {
           "aaxis": {
            "gridcolor": "#DFE8F3",
            "linecolor": "#A2B1C6",
            "ticks": ""
           },
           "baxis": {
            "gridcolor": "#DFE8F3",
            "linecolor": "#A2B1C6",
            "ticks": ""
           },
           "bgcolor": "white",
           "caxis": {
            "gridcolor": "#DFE8F3",
            "linecolor": "#A2B1C6",
            "ticks": ""
           }
          },
          "title": {
           "x": 0.05
          },
          "xaxis": {
           "automargin": true,
           "gridcolor": "#EBF0F8",
           "linecolor": "#EBF0F8",
           "ticks": "",
           "title": {
            "standoff": 15
           },
           "zerolinecolor": "#EBF0F8",
           "zerolinewidth": 2
          },
          "yaxis": {
           "automargin": true,
           "gridcolor": "#EBF0F8",
           "linecolor": "#EBF0F8",
           "ticks": "",
           "title": {
            "standoff": 15
           },
           "zerolinecolor": "#EBF0F8",
           "zerolinewidth": 2
          }
         }
        },
        "title": {
         "text": "Simple Scatter Plot"
        },
        "xaxis": {
         "showticklabels": false,
         "title": {
          "text": "X Axis"
         }
        },
        "yaxis": {
         "title": {
          "text": "Y Axis"
         }
        }
       }
      }
     },
     "metadata": {},
     "output_type": "display_data"
    }
   ],
   "source": [
    "import plotly.graph_objects as go\n",
    "from main import create_weather_plot, getForecast, geocoding, EMOJIS, API_KEY\n",
    "from datetime import datetime\n",
    "import pandas as pd\n",
    "from streamlit_plotly_events import plotly_events\n",
    "\n",
    "city = \"Paris\"\n",
    "lat, lon = geocoding(city)\n",
    "data = getForecast(lat, lon)\n",
    "\n",
    "temperatures = [entry[\"main\"][\"temp\"] for entry in data[\"list\"]]\n",
    "timestamps = [datetime.fromtimestamp(entry[\"dt\"]) for entry in data[\"list\"]]\n",
    "weathers = [entry[\"weather\"][0][\"main\"] for entry in data['list']]\n",
    "weather_emojis = [EMOJIS.get(w, \"❓\") for w in weathers]\n",
    "\n",
    "df = pd.DataFrame({\n",
    "    \"datetime\": timestamps,\n",
    "    \"temperature\": temperatures,\n",
    "    \"emoji\": weather_emojis\n",
    "})\n",
    "df[\"day\"] = df[\"datetime\"].dt.date\n",
    "df[\"hour\"] = df[\"datetime\"].dt.hour\n",
    "df[\"datetime\"] = pd.to_datetime(df[\"datetime\"], utc=True)\n",
    "\n",
    "# Create a scatter plot\n",
    "# fig = go.Figure(data=go.Scatter(x=[1, 2, 3, 4], y=[10, 11, 12, 13], mode='markers'))\n",
    "fig = create_weather_plot(df)\n",
    "# Customize layout\n",
    "fig.update_layout(title=\"Simple Scatter Plot\", xaxis_title=\"X Axis\", yaxis_title=\"Y Axis\")\n",
    "\n",
    "# Show the plot\n",
    "fig.show()\n"
   ]
  }
 ],
 "metadata": {
  "kernelspec": {
   "display_name": "env3-12",
   "language": "python",
   "name": "python3"
  },
  "language_info": {
   "codemirror_mode": {
    "name": "ipython",
    "version": 3
   },
   "file_extension": ".py",
   "mimetype": "text/x-python",
   "name": "python",
   "nbconvert_exporter": "python",
   "pygments_lexer": "ipython3",
   "version": "3.12.8"
  }
 },
 "nbformat": 4,
 "nbformat_minor": 5
}
